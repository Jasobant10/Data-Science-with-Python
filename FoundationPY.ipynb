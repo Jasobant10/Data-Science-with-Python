{
  "cells": [
    {
      "cell_type": "markdown",
      "metadata": {
        "id": "view-in-github",
        "colab_type": "text"
      },
      "source": [
        "<a href=\"https://colab.research.google.com/github/Jasobant10/Data-Science-with-Python/blob/main/FoundationPY.ipynb\" target=\"_parent\"><img src=\"https://colab.research.google.com/assets/colab-badge.svg\" alt=\"Open In Colab\"/></a>"
      ]
    },
    {
      "cell_type": "markdown",
      "id": "9d6e2cf3-3917-424f-b379-7a429e6d48b9",
      "metadata": {
        "jp-MarkdownHeadingCollapsed": true,
        "id": "9d6e2cf3-3917-424f-b379-7a429e6d48b9"
      },
      "source": [
        "# CHAPTER-1 (MODULES, COMMENTS & PIP)"
      ]
    },
    {
      "cell_type": "markdown",
      "id": "d918ba49-cdb3-42b5-8eb9-f62e62b5a4a7",
      "metadata": {
        "jp-MarkdownHeadingCollapsed": true,
        "id": "d918ba49-cdb3-42b5-8eb9-f62e62b5a4a7"
      },
      "source": [
        "## First Python Program\n",
        "Execution file Extension is (.Py file). ex-  hello.py"
      ]
    },
    {
      "cell_type": "code",
      "execution_count": null,
      "id": "7de3c39f-b055-4c03-8790-addb4b214f33",
      "metadata": {
        "id": "7de3c39f-b055-4c03-8790-addb4b214f33",
        "outputId": "eab0dfaa-e730-4ee5-f6b5-306d4cf89bb4"
      },
      "outputs": [
        {
          "name": "stdout",
          "output_type": "stream",
          "text": [
            "hello world\n",
            " hello python \n"
          ]
        }
      ],
      "source": [
        "print(\"hello world\")\n",
        "print(\" hello python \")"
      ]
    },
    {
      "cell_type": "markdown",
      "id": "4ff7d281-857e-462c-8650-530b8833405a",
      "metadata": {
        "jp-MarkdownHeadingCollapsed": true,
        "id": "4ff7d281-857e-462c-8650-530b8833405a"
      },
      "source": [
        "## Module and PIP\n",
        "- flask,pandas & pyjokes are modules which are code library.\n",
        "- these python modules are installed through PIP (package manager).\n",
        "- import the module to use the package."
      ]
    },
    {
      "cell_type": "code",
      "execution_count": null,
      "id": "05de5066-03c2-43d0-97a3-b482a2497069",
      "metadata": {
        "id": "05de5066-03c2-43d0-97a3-b482a2497069",
        "outputId": "242c72ba-2bc2-44a1-dbcf-468928485cd7"
      },
      "outputs": [
        {
          "name": "stdout",
          "output_type": "stream",
          "text": [
            "Requirement already satisfied: flask in c:\\users\\jasob\\anaconda3\\lib\\site-packages (3.0.3)\n",
            "Requirement already satisfied: Werkzeug>=3.0.0 in c:\\users\\jasob\\anaconda3\\lib\\site-packages (from flask) (3.0.3)\n",
            "Requirement already satisfied: Jinja2>=3.1.2 in c:\\users\\jasob\\anaconda3\\lib\\site-packages (from flask) (3.1.4)\n",
            "Requirement already satisfied: itsdangerous>=2.1.2 in c:\\users\\jasob\\anaconda3\\lib\\site-packages (from flask) (2.2.0)\n",
            "Requirement already satisfied: click>=8.1.3 in c:\\users\\jasob\\anaconda3\\lib\\site-packages (from flask) (8.1.7)\n",
            "Requirement already satisfied: blinker>=1.6.2 in c:\\users\\jasob\\anaconda3\\lib\\site-packages (from flask) (1.6.2)\n",
            "Requirement already satisfied: colorama in c:\\users\\jasob\\anaconda3\\lib\\site-packages (from click>=8.1.3->flask) (0.4.6)\n",
            "Requirement already satisfied: MarkupSafe>=2.0 in c:\\users\\jasob\\anaconda3\\lib\\site-packages (from Jinja2>=3.1.2->flask) (2.1.3)\n",
            "Note: you may need to restart the kernel to use updated packages.\n"
          ]
        }
      ],
      "source": [
        "pip install flask"
      ]
    },
    {
      "cell_type": "code",
      "execution_count": null,
      "id": "533144dd-ebbe-467c-ab4f-966dd6ec2a11",
      "metadata": {
        "scrolled": true,
        "id": "533144dd-ebbe-467c-ab4f-966dd6ec2a11",
        "outputId": "ea785718-91cf-43de-a982-52b3177415ab"
      },
      "outputs": [
        {
          "name": "stdout",
          "output_type": "stream",
          "text": [
            "Requirement already satisfied: pandas in c:\\users\\jasob\\anaconda3\\lib\\site-packages (2.2.2)\n",
            "Requirement already satisfied: numpy>=1.26.0 in c:\\users\\jasob\\anaconda3\\lib\\site-packages (from pandas) (1.26.4)\n",
            "Requirement already satisfied: python-dateutil>=2.8.2 in c:\\users\\jasob\\anaconda3\\lib\\site-packages (from pandas) (2.9.0.post0)\n",
            "Requirement already satisfied: pytz>=2020.1 in c:\\users\\jasob\\anaconda3\\lib\\site-packages (from pandas) (2024.1)\n",
            "Requirement already satisfied: tzdata>=2022.7 in c:\\users\\jasob\\anaconda3\\lib\\site-packages (from pandas) (2023.3)\n",
            "Requirement already satisfied: six>=1.5 in c:\\users\\jasob\\anaconda3\\lib\\site-packages (from python-dateutil>=2.8.2->pandas) (1.16.0)\n",
            "Note: you may need to restart the kernel to use updated packages.\n"
          ]
        }
      ],
      "source": [
        "pip install pandas"
      ]
    },
    {
      "cell_type": "code",
      "execution_count": null,
      "id": "4750c008-06d0-4ea1-9c40-b0d44ff19b7d",
      "metadata": {
        "id": "4750c008-06d0-4ea1-9c40-b0d44ff19b7d",
        "outputId": "d39b3b84-9bef-4411-f67a-75fd1ebf813a"
      },
      "outputs": [
        {
          "name": "stdout",
          "output_type": "stream",
          "text": [
            "Collecting pyjokes\n",
            "  Downloading pyjokes-0.8.3-py3-none-any.whl.metadata (3.4 kB)\n",
            "Downloading pyjokes-0.8.3-py3-none-any.whl (47 kB)\n",
            "   ---------------------------------------- 0.0/47.6 kB ? eta -:--:--\n",
            "   ---------------------------------------- 0.0/47.6 kB ? eta -:--:--\n",
            "   ---------------------------------------- 0.0/47.6 kB ? eta -:--:--\n",
            "   ---------------------------------------- 0.0/47.6 kB ? eta -:--:--\n",
            "   ---------------------------------------- 0.0/47.6 kB ? eta -:--:--\n",
            "   ----------------- ---------------------- 20.5/47.6 kB ? eta -:--:--\n",
            "   ----------------- ---------------------- 20.5/47.6 kB ? eta -:--:--\n",
            "   ----------------- ---------------------- 20.5/47.6 kB ? eta -:--:--\n",
            "   ---------------------------------------- 47.6/47.6 kB 298.6 kB/s eta 0:00:00\n",
            "Installing collected packages: pyjokes\n",
            "Successfully installed pyjokes-0.8.3\n",
            "Note: you may need to restart the kernel to use updated packages.\n"
          ]
        }
      ],
      "source": [
        "pip install pyjokes"
      ]
    },
    {
      "cell_type": "code",
      "execution_count": null,
      "id": "6606a877-cf37-478e-8c7d-1756ed58104e",
      "metadata": {
        "id": "6606a877-cf37-478e-8c7d-1756ed58104e",
        "outputId": "3b506e13-7412-43ec-e8fc-5c84816e9813"
      },
      "outputs": [
        {
          "name": "stdout",
          "output_type": "stream",
          "text": [
            "Printing jokes...\n",
            "All programmers are playwrights, and all computers are lousy actors.\n"
          ]
        }
      ],
      "source": [
        "import pyjokes\n",
        "\n",
        "print(\"Printing jokes...\")\n",
        "joke = pyjokes.get_joke()\n",
        "print(joke)"
      ]
    },
    {
      "cell_type": "markdown",
      "id": "9196a024-41b2-4ded-9be4-cdf7f183dd88",
      "metadata": {
        "jp-MarkdownHeadingCollapsed": true,
        "id": "9196a024-41b2-4ded-9be4-cdf7f183dd88"
      },
      "source": [
        "## Comments\n",
        "used to make something which is not executed or ignored by program\n",
        "\n",
        "#single line comment\n",
        "\n",
        "\"\"\" multiline comment \"\"\""
      ]
    },
    {
      "cell_type": "markdown",
      "id": "7a22375e-f660-4564-8bd3-570b038a05fe",
      "metadata": {
        "id": "7a22375e-f660-4564-8bd3-570b038a05fe"
      },
      "source": [
        "## Chapter-1 Practice"
      ]
    },
    {
      "cell_type": "markdown",
      "id": "84542cbd-9ad4-488c-a7d2-3d07b840e647",
      "metadata": {
        "id": "84542cbd-9ad4-488c-a7d2-3d07b840e647"
      },
      "source": [
        "1. Write a program to print Twinkle twinkle little star poem in python"
      ]
    },
    {
      "cell_type": "code",
      "execution_count": null,
      "id": "a06d6e08-8ebf-4ebc-a06e-9e87d87abeeb",
      "metadata": {
        "id": "a06d6e08-8ebf-4ebc-a06e-9e87d87abeeb",
        "outputId": "8b011b62-afc5-48fd-8b42-bc59cdd9fc28"
      },
      "outputs": [
        {
          "name": "stdout",
          "output_type": "stream",
          "text": [
            "Twinkle, twinkle, little star,\n",
            "How I wonder what you are!\n",
            "Up above the world so high,\n",
            "Like a diamond in the sky.\n",
            "\n",
            "When the blazing sun is gone,\n",
            "When he nothing shines upon,\n",
            "Then you show your little light,\n",
            "Twinkle, twinkle, all the night.\n",
            "\n",
            "Then the trav'ller in the dark,\n",
            "Thanks you for your tiny spark,\n",
            "He could not see which way to go,\n",
            "If you did not twinkle so.\n",
            "\n",
            "In the dark blue sky you keep,\n",
            "And often thro' my curtains peep,\n",
            "For you never shut your eye,\n",
            "Till the sun is in the sky.\n",
            "\n",
            "'Tis your bright and tiny spark,\n",
            "Lights the trav'ller in the dark:\n",
            "Tho' I know not what you are,\n",
            "Twinkle, twinkle, little star.\n"
          ]
        }
      ],
      "source": [
        "print('''Twinkle, twinkle, little star,\n",
        "How I wonder what you are!\n",
        "Up above the world so high,\n",
        "Like a diamond in the sky.\n",
        "\n",
        "When the blazing sun is gone,\n",
        "When he nothing shines upon,\n",
        "Then you show your little light,\n",
        "Twinkle, twinkle, all the night.\n",
        "\n",
        "Then the trav'ller in the dark,\n",
        "Thanks you for your tiny spark,\n",
        "He could not see which way to go,\n",
        "If you did not twinkle so.\n",
        "\n",
        "In the dark blue sky you keep,\n",
        "And often thro' my curtains peep,\n",
        "For you never shut your eye,\n",
        "Till the sun is in the sky.\n",
        "\n",
        "'Tis your bright and tiny spark,\n",
        "Lights the trav'ller in the dark:\n",
        "Tho' I know not what you are,\n",
        "Twinkle, twinkle, little star.''')"
      ]
    },
    {
      "cell_type": "markdown",
      "id": "2f645944-728f-40e3-85b5-3c5e0104006c",
      "metadata": {
        "id": "2f645944-728f-40e3-85b5-3c5e0104006c"
      },
      "source": [
        "2. Install an external module and use it to perform an operation of your interest."
      ]
    },
    {
      "cell_type": "code",
      "execution_count": null,
      "id": "e7db934a-7370-4572-81ce-a124cc2730dd",
      "metadata": {
        "scrolled": true,
        "id": "e7db934a-7370-4572-81ce-a124cc2730dd",
        "outputId": "473282a4-b813-40a3-b592-415c88bb5985"
      },
      "outputs": [
        {
          "name": "stdout",
          "output_type": "stream",
          "text": [
            "Collecting pyttsx3\n",
            "  Downloading pyttsx3-2.98-py3-none-any.whl.metadata (3.8 kB)\n",
            "Collecting comtypes (from pyttsx3)\n",
            "  Downloading comtypes-1.4.7-py3-none-any.whl.metadata (6.5 kB)\n",
            "Collecting pypiwin32 (from pyttsx3)\n",
            "  Downloading pypiwin32-223-py3-none-any.whl.metadata (236 bytes)\n",
            "Requirement already satisfied: pywin32 in c:\\users\\jasob\\anaconda3\\lib\\site-packages (from pyttsx3) (305.1)\n",
            "Downloading pyttsx3-2.98-py3-none-any.whl (34 kB)\n",
            "Downloading comtypes-1.4.7-py3-none-any.whl (226 kB)\n",
            "   ---------------------------------------- 0.0/226.8 kB ? eta -:--:--\n",
            "   - -------------------------------------- 10.2/226.8 kB ? eta -:--:--\n",
            "   - -------------------------------------- 10.2/226.8 kB ? eta -:--:--\n",
            "   - -------------------------------------- 10.2/226.8 kB ? eta -:--:--\n",
            "   ----- --------------------------------- 30.7/226.8 kB 145.2 kB/s eta 0:00:02\n",
            "   ----- --------------------------------- 30.7/226.8 kB 145.2 kB/s eta 0:00:02\n",
            "   ------- ------------------------------- 41.0/226.8 kB 131.3 kB/s eta 0:00:02\n",
            "   ------- ------------------------------- 41.0/226.8 kB 131.3 kB/s eta 0:00:02\n",
            "   ------- ------------------------------- 41.0/226.8 kB 131.3 kB/s eta 0:00:02\n",
            "   ---------- ---------------------------- 61.4/226.8 kB 136.5 kB/s eta 0:00:02\n",
            "   ---------- ---------------------------- 61.4/226.8 kB 136.5 kB/s eta 0:00:02\n",
            "   ---------- ---------------------------- 61.4/226.8 kB 136.5 kB/s eta 0:00:02\n",
            "   ---------- ---------------------------- 61.4/226.8 kB 136.5 kB/s eta 0:00:02\n",
            "   ---------- ---------------------------- 61.4/226.8 kB 136.5 kB/s eta 0:00:02\n",
            "   ---------- ---------------------------- 61.4/226.8 kB 136.5 kB/s eta 0:00:02\n",
            "   -------------- ------------------------ 81.9/226.8 kB 111.8 kB/s eta 0:00:02\n",
            "   -------------- ------------------------ 81.9/226.8 kB 111.8 kB/s eta 0:00:02\n",
            "   -------------- ------------------------ 81.9/226.8 kB 111.8 kB/s eta 0:00:02\n",
            "   -------------- ------------------------ 81.9/226.8 kB 111.8 kB/s eta 0:00:02\n",
            "   -------------- ------------------------ 81.9/226.8 kB 111.8 kB/s eta 0:00:02\n",
            "   -------------- ------------------------ 81.9/226.8 kB 111.8 kB/s eta 0:00:02\n",
            "   -------------- ------------------------ 81.9/226.8 kB 111.8 kB/s eta 0:00:02\n",
            "   -------------- ------------------------ 81.9/226.8 kB 111.8 kB/s eta 0:00:02\n",
            "   -------------- ------------------------ 81.9/226.8 kB 111.8 kB/s eta 0:00:02\n",
            "   -------------- ------------------------ 81.9/226.8 kB 111.8 kB/s eta 0:00:02\n",
            "   -------------- ------------------------ 81.9/226.8 kB 111.8 kB/s eta 0:00:02\n",
            "   ---------------- ----------------------- 92.2/226.8 kB 70.9 kB/s eta 0:00:02\n",
            "   ------------------- ------------------- 112.6/226.8 kB 87.4 kB/s eta 0:00:02\n",
            "   ------------------- ------------------- 112.6/226.8 kB 87.4 kB/s eta 0:00:02\n",
            "   ------------------- ------------------- 112.6/226.8 kB 87.4 kB/s eta 0:00:02\n",
            "   ------------------- ------------------- 112.6/226.8 kB 87.4 kB/s eta 0:00:02\n",
            "   ------------------- ------------------- 112.6/226.8 kB 87.4 kB/s eta 0:00:02\n",
            "   ------------------- ------------------- 112.6/226.8 kB 87.4 kB/s eta 0:00:02\n",
            "   ------------------- ------------------- 112.6/226.8 kB 87.4 kB/s eta 0:00:02\n",
            "   ------------------- ------------------- 112.6/226.8 kB 87.4 kB/s eta 0:00:02\n",
            "   ------------------- ------------------- 112.6/226.8 kB 87.4 kB/s eta 0:00:02\n",
            "   ------------------- ------------------- 112.6/226.8 kB 87.4 kB/s eta 0:00:02\n",
            "   ------------------- ------------------- 112.6/226.8 kB 87.4 kB/s eta 0:00:02\n",
            "   ------------------------ -------------- 143.4/226.8 kB 79.6 kB/s eta 0:00:02\n",
            "   ------------------------ -------------- 143.4/226.8 kB 79.6 kB/s eta 0:00:02\n",
            "   ------------------------ -------------- 143.4/226.8 kB 79.6 kB/s eta 0:00:02\n",
            "   ------------------------ -------------- 143.4/226.8 kB 79.6 kB/s eta 0:00:02\n",
            "   ---------------------------- ---------- 163.8/226.8 kB 84.8 kB/s eta 0:00:01\n",
            "   ---------------------------- ---------- 163.8/226.8 kB 84.8 kB/s eta 0:00:01\n",
            "   ---------------------------- ---------- 163.8/226.8 kB 84.8 kB/s eta 0:00:01\n",
            "   ---------------------------- ---------- 163.8/226.8 kB 84.8 kB/s eta 0:00:01\n",
            "   ---------------------------- ---------- 163.8/226.8 kB 84.8 kB/s eta 0:00:01\n",
            "   ---------------------------- ---------- 163.8/226.8 kB 84.8 kB/s eta 0:00:01\n",
            "   ---------------------------- ---------- 163.8/226.8 kB 84.8 kB/s eta 0:00:01\n",
            "   ---------------------------- ---------- 163.8/226.8 kB 84.8 kB/s eta 0:00:01\n",
            "   ----------------------------- --------- 174.1/226.8 kB 74.9 kB/s eta 0:00:01\n",
            "   ----------------------------- --------- 174.1/226.8 kB 74.9 kB/s eta 0:00:01\n",
            "   ----------------------------- --------- 174.1/226.8 kB 74.9 kB/s eta 0:00:01\n",
            "   ----------------------------- --------- 174.1/226.8 kB 74.9 kB/s eta 0:00:01\n",
            "   ----------------------------- --------- 174.1/226.8 kB 74.9 kB/s eta 0:00:01\n",
            "   ----------------------------- --------- 174.1/226.8 kB 74.9 kB/s eta 0:00:01\n",
            "   ----------------------------- --------- 174.1/226.8 kB 74.9 kB/s eta 0:00:01\n",
            "   ----------------------------- --------- 174.1/226.8 kB 74.9 kB/s eta 0:00:01\n",
            "   ----------------------------- --------- 174.1/226.8 kB 74.9 kB/s eta 0:00:01\n",
            "   ----------------------------- --------- 174.1/226.8 kB 74.9 kB/s eta 0:00:01\n",
            "   --------------------------------- ----- 194.6/226.8 kB 70.6 kB/s eta 0:00:01\n",
            "   --------------------------------- ----- 194.6/226.8 kB 70.6 kB/s eta 0:00:01\n",
            "   --------------------------------- ----- 194.6/226.8 kB 70.6 kB/s eta 0:00:01\n",
            "   --------------------------------- ----- 194.6/226.8 kB 70.6 kB/s eta 0:00:01\n",
            "   --------------------------------- ----- 194.6/226.8 kB 70.6 kB/s eta 0:00:01\n",
            "   --------------------------------- ----- 194.6/226.8 kB 70.6 kB/s eta 0:00:01\n",
            "   --------------------------------- ----- 194.6/226.8 kB 70.6 kB/s eta 0:00:01\n",
            "   --------------------------------- ----- 194.6/226.8 kB 70.6 kB/s eta 0:00:01\n",
            "   --------------------------------- ----- 194.6/226.8 kB 70.6 kB/s eta 0:00:01\n",
            "   --------------------------------- ----- 194.6/226.8 kB 70.6 kB/s eta 0:00:01\n",
            "   --------------------------------- ----- 194.6/226.8 kB 70.6 kB/s eta 0:00:01\n",
            "   --------------------------------- ----- 194.6/226.8 kB 70.6 kB/s eta 0:00:01\n",
            "   --------------------------------- ----- 194.6/226.8 kB 70.6 kB/s eta 0:00:01\n",
            "   ----------------------------------- --- 204.8/226.8 kB 60.4 kB/s eta 0:00:01\n",
            "   ----------------------------------- --- 204.8/226.8 kB 60.4 kB/s eta 0:00:01\n",
            "   ----------------------------------- --- 204.8/226.8 kB 60.4 kB/s eta 0:00:01\n",
            "   ----------------------------------- --- 204.8/226.8 kB 60.4 kB/s eta 0:00:01\n",
            "   ----------------------------------- --- 204.8/226.8 kB 60.4 kB/s eta 0:00:01\n",
            "   ----------------------------------- --- 204.8/226.8 kB 60.4 kB/s eta 0:00:01\n",
            "   ----------------------------------- --- 204.8/226.8 kB 60.4 kB/s eta 0:00:01\n",
            "   ----------------------------------- --- 204.8/226.8 kB 60.4 kB/s eta 0:00:01\n",
            "   ----------------------------------- --- 204.8/226.8 kB 60.4 kB/s eta 0:00:01\n",
            "   ----------------------------------- --- 204.8/226.8 kB 60.4 kB/s eta 0:00:01\n",
            "   ----------------------------------- --- 204.8/226.8 kB 60.4 kB/s eta 0:00:01\n",
            "   ----------------------------------- --- 204.8/226.8 kB 60.4 kB/s eta 0:00:01\n",
            "   ----------------------------------- --- 204.8/226.8 kB 60.4 kB/s eta 0:00:01\n",
            "   ----------------------------------- --- 204.8/226.8 kB 60.4 kB/s eta 0:00:01\n",
            "   ----------------------------------- --- 204.8/226.8 kB 60.4 kB/s eta 0:00:01\n",
            "   ----------------------------------- --- 204.8/226.8 kB 60.4 kB/s eta 0:00:01\n",
            "   ----------------------------------- --- 204.8/226.8 kB 60.4 kB/s eta 0:00:01\n",
            "   ----------------------------------- --- 204.8/226.8 kB 60.4 kB/s eta 0:00:01\n",
            "   ----------------------------------- --- 204.8/226.8 kB 60.4 kB/s eta 0:00:01\n",
            "   ----------------------------------- --- 204.8/226.8 kB 60.4 kB/s eta 0:00:01\n",
            "   ----------------------------------- --- 204.8/226.8 kB 60.4 kB/s eta 0:00:01\n",
            "   ----------------------------------- --- 204.8/226.8 kB 60.4 kB/s eta 0:00:01\n",
            "   --------------------------------------- 226.8/226.8 kB 51.7 kB/s eta 0:00:00\n",
            "Downloading pypiwin32-223-py3-none-any.whl (1.7 kB)\n",
            "Installing collected packages: pypiwin32, comtypes, pyttsx3\n",
            "Successfully installed comtypes-1.4.7 pypiwin32-223 pyttsx3-2.98\n",
            "Note: you may need to restart the kernel to use updated packages.\n"
          ]
        }
      ],
      "source": [
        "pip install pyttsx3"
      ]
    },
    {
      "cell_type": "code",
      "execution_count": null,
      "id": "19f9654e-1809-4058-83bd-edc08f1d29ab",
      "metadata": {
        "id": "19f9654e-1809-4058-83bd-edc08f1d29ab"
      },
      "outputs": [],
      "source": [
        "import pyttsx3\n",
        "engine = pyttsx3.init()\n",
        "engine.say(\"joel keep it up\")\n",
        "engine.runAndWait()"
      ]
    },
    {
      "cell_type": "markdown",
      "id": "ae82df97-2b78-42eb-8fd9-8eca330167d5",
      "metadata": {
        "id": "ae82df97-2b78-42eb-8fd9-8eca330167d5"
      },
      "source": [
        "3. Write a python program to print the contents of a directory using the os module.\n",
        "Search online for the function which does that\n",
        "4. Label the program written in problem 4 with comments. ( # comment label is used )  "
      ]
    },
    {
      "cell_type": "code",
      "execution_count": null,
      "id": "829d0a00-0cbd-4ee6-b7be-891457fedfe4",
      "metadata": {
        "id": "829d0a00-0cbd-4ee6-b7be-891457fedfe4",
        "outputId": "75a46d9b-3269-491f-a212-5ceed016e943"
      },
      "outputs": [
        {
          "name": "stdout",
          "output_type": "stream",
          "text": [
            "Enter the directory path:  /\n"
          ]
        },
        {
          "name": "stdout",
          "output_type": "stream",
          "text": [
            "Contents of the directory '/':\n",
            "\n",
            "[DIR] $Recycle.Bin\n",
            "[DIR] $WINDOWS.~BT\n",
            "[DIR] $Windows.~WS\n",
            "[FILE] .GamingRoot\n",
            "[DIR] ADE\n",
            "[DIR] Config.Msi\n",
            "[DIR] Documents and Settings\n",
            "[DIR] Drivers\n",
            "[FILE] DumpStack.log.tmp\n",
            "[DIR] ESD\n",
            "[FILE] hiberfil.sys\n",
            "[DIR] Intel\n",
            "[DIR] Log\n",
            "[DIR] LP1\n",
            "[DIR] MinGW\n",
            "[DIR] OneDriveTemp\n",
            "[FILE] pagefile.sys\n",
            "[DIR] PerfLogs\n",
            "[DIR] Program Files\n",
            "[DIR] Program Files (x86)\n",
            "[DIR] ProgramData\n",
            "[DIR] python 3.11\n",
            "[DIR] Recovery\n",
            "[FILE] swapfile.sys\n",
            "[DIR] System Volume Information\n",
            "[DIR] Users\n",
            "[DIR] Windows\n",
            "[DIR] XboxGames\n"
          ]
        }
      ],
      "source": [
        "import os\n",
        "\n",
        "def list_directory_contents(directory):\n",
        "    try:\n",
        "        # Get a list of files and directories in the specified path\n",
        "        contents = os.listdir(directory)\n",
        "        print(f\"Contents of the directory '{directory}':\\n\")\n",
        "\n",
        "        # Print each item in the directory with type indication\n",
        "        for item in contents:\n",
        "            item_path = os.path.join(directory, item)\n",
        "            if os.path.isdir(item_path):\n",
        "                print(f\"[DIR] {item}\")\n",
        "            else:\n",
        "                print(f\"[FILE] {item}\")\n",
        "    except FileNotFoundError:\n",
        "        print(f\"The directory '{directory}' does not exist.\")\n",
        "    except PermissionError:\n",
        "        print(f\"Permission denied for accessing the directory '{directory}'.\")\n",
        "    except Exception as e:\n",
        "        print(f\"An error occurred: {e}\")\n",
        "\n",
        "# Ask the user for a directory path\n",
        "directory_path = input(\"Enter the directory path: \")\n",
        "list_directory_contents(directory_path)"
      ]
    },
    {
      "cell_type": "markdown",
      "id": "33ffdf69-1a7d-43a4-ae0e-2cbab94ac443",
      "metadata": {
        "jp-MarkdownHeadingCollapsed": true,
        "id": "33ffdf69-1a7d-43a4-ae0e-2cbab94ac443"
      },
      "source": [
        "# CHAPTER-2 (VARIABLES AND DATATYPE)"
      ]
    },
    {
      "cell_type": "markdown",
      "id": "bfd30557-e2a3-4caa-9f5c-cc89f4f4f494",
      "metadata": {
        "id": "bfd30557-e2a3-4caa-9f5c-cc89f4f4f494"
      },
      "source": [
        "## Variables\n",
        "- variable is a container that contains data. it is for data to give a memory location"
      ]
    },
    {
      "cell_type": "code",
      "execution_count": null,
      "id": "c15afc70-73a7-4210-bc20-eadabc28a7b4",
      "metadata": {
        "id": "c15afc70-73a7-4210-bc20-eadabc28a7b4",
        "outputId": "82bcd96c-1d4a-413f-d052-62916f60783f"
      },
      "outputs": [
        {
          "name": "stdout",
          "output_type": "stream",
          "text": [
            "2136.6\n",
            "jaso71.22\n"
          ]
        }
      ],
      "source": [
        "a= 30 # variables = container to store a value.\n",
        "b= \"jaso\" # keywords = reserved words in python (string)\n",
        "c= 71.22 # identifiers = class/function/variable name\n",
        "\n",
        "print (a * c)\n",
        "print (b + str(c)) #b is string & c is a float, so we cannot directly concatenate them. we need to conver c to a string using str(c).\n",
        "#concatenate means process of commbining two or more strings into siingle string."
      ]
    },
    {
      "cell_type": "code",
      "execution_count": null,
      "id": "16d0c8f5-06b8-4e06-80bf-c5c145c73303",
      "metadata": {
        "id": "16d0c8f5-06b8-4e06-80bf-c5c145c73303",
        "outputId": "102be56b-b375-40ab-c90f-e0925ba30128"
      },
      "outputs": [
        {
          "name": "stdout",
          "output_type": "stream",
          "text": [
            "6\n"
          ]
        }
      ],
      "source": [
        "#example of variable problem\n",
        "a=1\n",
        "b=5\n",
        "print(a + b)"
      ]
    },
    {
      "cell_type": "code",
      "execution_count": null,
      "id": "e19e7b16-dd23-4065-b447-6f2c995a3201",
      "metadata": {
        "id": "e19e7b16-dd23-4065-b447-6f2c995a3201"
      },
      "outputs": [],
      "source": [
        "#Rules of naming a variable\n",
        "a=23\n",
        "harry78=7 #var name contains only alhabets,digit & underscores.\n",
        "_harry=78 #var only can starts froms with  alphabets & underscores\n",
        "# @harry=45  #var cannot starts from special character & numbers.\n",
        "# h@rry=54   #var cannot contoins special character\n",
        "# har ry=75 #var connot contain white space"
      ]
    },
    {
      "cell_type": "markdown",
      "id": "e8cf4e06-0092-4d71-a532-c5218f6f5b8a",
      "metadata": {
        "id": "e8cf4e06-0092-4d71-a532-c5218f6f5b8a"
      },
      "source": [
        "## Datatype\n",
        "\n",
        "primarily datatypes are:\n",
        "\n",
        "1. Integer\n",
        "2. Floating point number\n",
        "3. Strings\n",
        "4. Booleans\n",
        "5. None"
      ]
    },
    {
      "cell_type": "code",
      "execution_count": null,
      "id": "598d5f7c-fc67-4591-be81-301687aeac94",
      "metadata": {
        "id": "598d5f7c-fc67-4591-be81-301687aeac94"
      },
      "outputs": [],
      "source": [
        "a=1 # a is an interger\n",
        "b=5.22 # b is a floating point number\n",
        "c=\"MBA is different\" # c is a sring\n",
        "d=False # d is a boolean variable\n",
        "e=None # e is a none type variable"
      ]
    },
    {
      "cell_type": "markdown",
      "id": "f8400811-f7d2-4f3f-8d9f-0630ab030cdb",
      "metadata": {
        "id": "f8400811-f7d2-4f3f-8d9f-0630ab030cdb"
      },
      "source": [
        "## Operators in python\n",
        "1. Arithmetic operators: +, -, *, /, **, %%\n",
        "32. Assignment operators: =, +=, -= .4\n",
        "3. Comparison operators: ==, >, >=,, <, c5\n",
        "4. Logical operators: and, or, not."
      ]
    },
    {
      "cell_type": "code",
      "execution_count": null,
      "id": "11f7c98d-a902-43e8-aa40-ef10a81ccabd",
      "metadata": {
        "id": "11f7c98d-a902-43e8-aa40-ef10a81ccabd",
        "outputId": "a57e4064-6706-40d0-8a1b-5cb85405a1da"
      },
      "outputs": [
        {
          "name": "stdout",
          "output_type": "stream",
          "text": [
            "11\n",
            "74.0\n"
          ]
        }
      ],
      "source": [
        "#Arithematic Operator\n",
        "a=7\n",
        "b=4\n",
        "c=a+b\n",
        "print(c)\n",
        "\n",
        "maths=74\n",
        "full=100\n",
        "percentage=maths/full*100\n",
        "print(percentage)"
      ]
    },
    {
      "cell_type": "code",
      "execution_count": null,
      "id": "a18d69fd-22d6-471f-914a-be9279848f54",
      "metadata": {
        "id": "a18d69fd-22d6-471f-914a-be9279848f54",
        "outputId": "6057ee17-d16d-4c47-91b6-da58d82b579b"
      },
      "outputs": [
        {
          "name": "stdout",
          "output_type": "stream",
          "text": [
            "2\n",
            "3\n"
          ]
        }
      ],
      "source": [
        "#Assignment Operator\n",
        "a = 4-2 #assign 4-2 in a\n",
        "print(a)\n",
        "\n",
        "b=6\n",
        "#b += 3 # Increment the value of b by 3 and then asssign it to b\n",
        "b -= 3 # Decrement the value of b by 3 and then asssign it to b\n",
        "print(b)"
      ]
    },
    {
      "cell_type": "code",
      "execution_count": null,
      "id": "6f7edfdf-55f2-481a-9c42-060d4932f284",
      "metadata": {
        "id": "6f7edfdf-55f2-481a-9c42-060d4932f284",
        "outputId": "1c46efae-2017-4a1f-ee09-3cfacd6d5b50"
      },
      "outputs": [
        {
          "name": "stdout",
          "output_type": "stream",
          "text": [
            "False\n",
            "True\n",
            "False\n"
          ]
        }
      ],
      "source": [
        "#Comparison Operator\n",
        "d= 5<4 # 5 is greater than 4\n",
        "print(d)\n",
        "\n",
        "e= 5!=7 # 5 is not equal to 7\n",
        "print(e)\n",
        "\n",
        "f= 4==8 # 4 is equal to 8, == is comparation operator for where it is equal, = is assignment operator for assigning the value\n",
        "print(f)"
      ]
    },
    {
      "cell_type": "code",
      "execution_count": null,
      "id": "ed003ea7-3118-4046-b272-837169e1db5a",
      "metadata": {
        "id": "ed003ea7-3118-4046-b272-837169e1db5a",
        "outputId": "2f320667-20a7-4458-9bf0-ad9f99477dcd"
      },
      "outputs": [
        {
          "name": "stdout",
          "output_type": "stream",
          "text": [
            "True\n",
            "True or False is  True\n",
            "True or True is  True\n",
            "False or True is  True\n",
            "False or False is  False\n",
            "True and False is  False\n",
            "True and True is  True\n",
            "False and True is  False\n",
            "False and False is  False\n",
            "False\n"
          ]
        }
      ],
      "source": [
        "#Logicial Operator\n",
        "e= True or False\n",
        "print(e)\n",
        "# Truth table of 'or'\n",
        "print(\"True or False is \", True or False)\n",
        "print(\"True or True is \", True or True)\n",
        "print(\"False or True is \", False or True)\n",
        "print(\"False or False is \", False or False)\n",
        "\n",
        "# Truth table of 'and'\n",
        "print(\"True and False is \", True and False)\n",
        "print(\"True and True is \", True and True)\n",
        "print(\"False and True is \", False and True)\n",
        "print(\"False and False is \", False and False)\n",
        "\n",
        "print(not(True))"
      ]
    },
    {
      "cell_type": "markdown",
      "id": "09efcc2a-7ec6-46fa-96ad-786608931a2c",
      "metadata": {
        "id": "09efcc2a-7ec6-46fa-96ad-786608931a2c"
      },
      "source": [
        "## type() Function and  Typecasting\n",
        "- type() function : used to find the data type of a given variable in python\n",
        "- typecasting : functions to convert one data type into another"
      ]
    },
    {
      "cell_type": "code",
      "execution_count": null,
      "id": "aaa4028a-53e6-40d8-8122-28126bcb3c64",
      "metadata": {
        "id": "aaa4028a-53e6-40d8-8122-28126bcb3c64",
        "outputId": "7b16eaf6-0acb-4b92-ed26-77de032f1bb2"
      },
      "outputs": [
        {
          "name": "stdout",
          "output_type": "stream",
          "text": [
            "<class 'int'>\n"
          ]
        },
        {
          "data": {
            "text/plain": [
              "float"
            ]
          },
          "execution_count": 218,
          "metadata": {},
          "output_type": "execute_result"
        }
      ],
      "source": [
        "#type() Function\n",
        "a=314\n",
        "t=type(a)\n",
        "print(t)\n",
        "\n",
        "b=31.4\n",
        "type(b)\n",
        "\n",
        "# c=\"good\"\n",
        "# t=type(c)\n",
        "# print(t)"
      ]
    },
    {
      "cell_type": "code",
      "execution_count": null,
      "id": "80f28b8c-8bc5-43e0-864c-263624c0f436",
      "metadata": {
        "id": "80f28b8c-8bc5-43e0-864c-263624c0f436",
        "outputId": "125ff2c1-1722-41b6-e1ea-1d24fe064a2b"
      },
      "outputs": [
        {
          "name": "stdout",
          "output_type": "stream",
          "text": [
            "<class 'str'>\n"
          ]
        },
        {
          "data": {
            "text/plain": [
              "32.0"
            ]
          },
          "execution_count": 194,
          "metadata": {},
          "output_type": "execute_result"
        }
      ],
      "source": [
        "#typecasting\n",
        "a= \"3.1124\"\n",
        "b= float(a) #a is string but changed to float\n",
        "t= type(a)\n",
        "print(t)\n",
        "\n",
        "float(32)"
      ]
    },
    {
      "cell_type": "markdown",
      "id": "eda893ed-2c9d-4388-ae56-08750f422d17",
      "metadata": {
        "id": "eda893ed-2c9d-4388-ae56-08750f422d17"
      },
      "source": [
        "## input() Function\n",
        "- allows the user to take input from the keyboard as a string."
      ]
    },
    {
      "cell_type": "code",
      "execution_count": null,
      "id": "c9925ab6-725e-498f-b6d6-f612ddd25e7e",
      "metadata": {
        "id": "c9925ab6-725e-498f-b6d6-f612ddd25e7e",
        "outputId": "9f2872af-a66b-4a59-a0dd-dc5353d43fa6"
      },
      "outputs": [
        {
          "name": "stdout",
          "output_type": "stream",
          "text": [
            "Enter number 1:  1\n",
            "Enter number 2:  22\n"
          ]
        },
        {
          "name": "stdout",
          "output_type": "stream",
          "text": [
            "Number a is:  1\n",
            "Number b is:  22\n",
            "Sum is:  122\n"
          ]
        }
      ],
      "source": [
        "#input function take the value as string. even entering the number, it accept as as string. so when two string adds the it concatenate.\n",
        "a = input(\"Enter number 1: \")\n",
        "b = input(\"Enter number 2: \")\n",
        "\n",
        "print(\"Number a is: \", a)\n",
        "print(\"Number b is: \", b)\n",
        "print(\"Sum is: \", a + b)"
      ]
    },
    {
      "cell_type": "code",
      "execution_count": null,
      "id": "fa246f3e-f0dd-403e-b66c-a3e0c1c57f40",
      "metadata": {
        "id": "fa246f3e-f0dd-403e-b66c-a3e0c1c57f40",
        "outputId": "8eb6b671-0c5d-4c84-d948-0b3c97bcde19"
      },
      "outputs": [
        {
          "name": "stdout",
          "output_type": "stream",
          "text": [
            "Enter number 1:  1\n",
            "Enter number 2:  5\n"
          ]
        },
        {
          "name": "stdout",
          "output_type": "stream",
          "text": [
            "Number a is:  1\n",
            "Number b is:  5\n",
            "Sum is:  6\n"
          ]
        }
      ],
      "source": [
        "#int before input() converted the string to int. so that it doesn't concatenate.\n",
        "a = int(input(\"Enter number 1: \"))\n",
        "b = int(input(\"Enter number 2: \"))\n",
        "\n",
        "print(\"Number a is: \", a)\n",
        "print(\"Number b is: \", b)\n",
        "print(\"Sum is: \", a + b)"
      ]
    },
    {
      "cell_type": "markdown",
      "id": "f57c25af-95a2-4724-a01e-d31f1c9342ce",
      "metadata": {
        "id": "f57c25af-95a2-4724-a01e-d31f1c9342ce"
      },
      "source": [
        "## Chapter-2 Practice"
      ]
    },
    {
      "cell_type": "markdown",
      "id": "8afd3f60-6338-4a55-9b2e-0ce6629fb364",
      "metadata": {
        "id": "8afd3f60-6338-4a55-9b2e-0ce6629fb364"
      },
      "source": [
        "1. Write a python program to add two numbers."
      ]
    },
    {
      "cell_type": "code",
      "execution_count": null,
      "id": "c1e48164-81fe-4484-a872-7f4c943afe1d",
      "metadata": {
        "id": "c1e48164-81fe-4484-a872-7f4c943afe1d",
        "outputId": "20ff4f79-f891-45ba-d15f-30954420e4c1"
      },
      "outputs": [
        {
          "name": "stdout",
          "output_type": "stream",
          "text": [
            "6\n"
          ]
        }
      ],
      "source": [
        "a=1\n",
        "b=5\n",
        "print(a+b)"
      ]
    },
    {
      "cell_type": "markdown",
      "id": "6227b83e-350e-40ef-95f6-c63852953407",
      "metadata": {
        "id": "6227b83e-350e-40ef-95f6-c63852953407"
      },
      "source": [
        "2. Write a python program to find remainder when a number is divided by z."
      ]
    },
    {
      "cell_type": "code",
      "execution_count": null,
      "id": "daf1e519-1af1-4590-adc3-6afb342bb8ef",
      "metadata": {
        "id": "daf1e519-1af1-4590-adc3-6afb342bb8ef",
        "outputId": "acee3639-ca36-4972-952a-5ac07e597030"
      },
      "outputs": [
        {
          "name": "stdout",
          "output_type": "stream",
          "text": [
            "Remainder when a is divided by b is 4\n"
          ]
        }
      ],
      "source": [
        "a=34\n",
        "b=5\n",
        "print(\"Remainder when a is divided by b is\", a%b)"
      ]
    },
    {
      "cell_type": "markdown",
      "id": "be795908-2094-4b4d-8493-f6cca0781571",
      "metadata": {
        "id": "be795908-2094-4b4d-8493-f6cca0781571"
      },
      "source": [
        "3. Check the type of variable assigned using input () function."
      ]
    },
    {
      "cell_type": "code",
      "execution_count": null,
      "id": "01343d1d-27f4-4242-a0de-dd906fc210e9",
      "metadata": {
        "id": "01343d1d-27f4-4242-a0de-dd906fc210e9",
        "outputId": "624a1f08-8605-425b-da73-ae6d76a15872"
      },
      "outputs": [
        {
          "name": "stdout",
          "output_type": "stream",
          "text": [
            "Enter the value of a:  79.....8\n"
          ]
        },
        {
          "name": "stdout",
          "output_type": "stream",
          "text": [
            "<class 'str'>\n"
          ]
        }
      ],
      "source": [
        "a = input(\"Enter the value of a: \")\n",
        "print(type(a))"
      ]
    },
    {
      "cell_type": "markdown",
      "id": "7090e141-c401-47dc-9b87-43db02dab893",
      "metadata": {
        "id": "7090e141-c401-47dc-9b87-43db02dab893"
      },
      "source": [
        "4. Use comparison operator to find out whether ‘a’ given variable a is greater than ‘b’ or not. Take a = 34 and b = 80"
      ]
    },
    {
      "cell_type": "code",
      "execution_count": null,
      "id": "d761a8eb-b3a9-4778-b21f-312d5cb9e73b",
      "metadata": {
        "id": "d761a8eb-b3a9-4778-b21f-312d5cb9e73b",
        "outputId": "4cd0f89a-eb78-441b-a48d-192a761e6cb2"
      },
      "outputs": [
        {
          "name": "stdout",
          "output_type": "stream",
          "text": [
            "Enter the value of a:  35\n",
            "Enter the value of b:  29\n"
          ]
        },
        {
          "name": "stdout",
          "output_type": "stream",
          "text": [
            "a is greater than b is  True\n"
          ]
        }
      ],
      "source": [
        "a = int(input(\"Enter the value of a: \"))\n",
        "b = int(input(\"Enter the value of b: \"))\n",
        "print(\"a is greater than b is \", a>b)"
      ]
    },
    {
      "cell_type": "markdown",
      "id": "359b8282-dc4e-422e-a9c7-331fefaabb64",
      "metadata": {
        "id": "359b8282-dc4e-422e-a9c7-331fefaabb64"
      },
      "source": [
        "5. Write a python program to find an average of two numbers entered by the user."
      ]
    },
    {
      "cell_type": "code",
      "execution_count": null,
      "id": "2f89b9ca-936c-47a5-8563-92b41ced2c86",
      "metadata": {
        "id": "2f89b9ca-936c-47a5-8563-92b41ced2c86",
        "outputId": "00c68d31-433c-499b-f5c5-a090f5e2633e"
      },
      "outputs": [
        {
          "name": "stdout",
          "output_type": "stream",
          "text": [
            "Enter the value of a:  89\n",
            "Enter the value of b:  56\n"
          ]
        },
        {
          "name": "stdout",
          "output_type": "stream",
          "text": [
            "The average of these two number is 72.5\n"
          ]
        }
      ],
      "source": [
        "a = int(input(\"Enter the value of a: \"))\n",
        "b = int(input(\"Enter the value of b: \"))\n",
        "print(\"The average of these two number is\", (a+b)/2)"
      ]
    },
    {
      "cell_type": "markdown",
      "id": "46488e9c-7705-45d9-8898-6e2175380646",
      "metadata": {
        "id": "46488e9c-7705-45d9-8898-6e2175380646"
      },
      "source": [
        "6. Write a python program to calculate the square of a number entered by the user"
      ]
    },
    {
      "cell_type": "code",
      "execution_count": null,
      "id": "8bc349fe-640e-467a-8422-493a51eba3db",
      "metadata": {
        "id": "8bc349fe-640e-467a-8422-493a51eba3db",
        "outputId": "73579b73-cd7a-4bd2-eafd-35c073940562"
      },
      "outputs": [
        {
          "name": "stdout",
          "output_type": "stream",
          "text": [
            "Enter your number:  5\n"
          ]
        },
        {
          "name": "stdout",
          "output_type": "stream",
          "text": [
            "The square of the number is 25\n"
          ]
        }
      ],
      "source": [
        "a = int(input(\"Enter your number: \"))\n",
        "\n",
        "print(\"The square of the number is\", a**2)"
      ]
    },
    {
      "cell_type": "markdown",
      "id": "8ac9d543-84a1-490d-8c8a-ce29ddc45ff6",
      "metadata": {
        "jp-MarkdownHeadingCollapsed": true,
        "id": "8ac9d543-84a1-490d-8c8a-ce29ddc45ff6"
      },
      "source": [
        "# CHAPTER-3 (STRINGS)"
      ]
    },
    {
      "cell_type": "markdown",
      "id": "57bd5596-714a-4d38-91c1-62dce8886084",
      "metadata": {
        "id": "57bd5596-714a-4d38-91c1-62dce8886084"
      },
      "source": [
        "- String is a data type in python.\n",
        "- String is a sequence of characters enclosed in quotes.\n",
        "- ex- name = \"Jaso\""
      ]
    },
    {
      "cell_type": "code",
      "execution_count": null,
      "id": "95ff197f-1123-447d-8f8c-7254cd04ad4d",
      "metadata": {
        "id": "95ff197f-1123-447d-8f8c-7254cd04ad4d"
      },
      "outputs": [],
      "source": [
        "a ='jaso' # Single quoted string\n",
        "b = \"jaso\" # Double quoted string\n",
        "c = '''jaso''' # Triple quoted string"
      ]
    },
    {
      "cell_type": "markdown",
      "id": "420d8126-77dd-4c45-8d33-9db89314b541",
      "metadata": {
        "id": "420d8126-77dd-4c45-8d33-9db89314b541"
      },
      "source": [
        "## String Slicing"
      ]
    },
    {
      "cell_type": "markdown",
      "id": "9776ab71-de87-4d44-921c-e25239daf3a7",
      "metadata": {
        "id": "9776ab71-de87-4d44-921c-e25239daf3a7"
      },
      "source": [
        "- A string in python can be sliced for getting a part of the strings.\n",
        "- The index in a sting starts from 0 to (length -1) in Python."
      ]
    },
    {
      "cell_type": "code",
      "execution_count": null,
      "id": "4fe8fd2a-2678-4319-8331-4b3718776042",
      "metadata": {
        "id": "4fe8fd2a-2678-4319-8331-4b3718776042",
        "outputId": "c02011ff-baf3-405c-c88a-e1c17314bf1a"
      },
      "outputs": [
        {
          "name": "stdout",
          "output_type": "stream",
          "text": [
            "Jaso\n",
            "ban\n"
          ]
        }
      ],
      "source": [
        "name=\"Jasobant\"\n",
        "nameshort=name[0:4] #start from index o all the way till 4 (excluding 4)\n",
        "print(nameshort)\n",
        "print(name[-4:-1])"
      ]
    },
    {
      "cell_type": "markdown",
      "id": "60f4b8d5-f487-4811-948d-1538b688a524",
      "metadata": {
        "id": "60f4b8d5-f487-4811-948d-1538b688a524"
      },
      "source": [
        "## Slicing with Skip Value"
      ]
    },
    {
      "cell_type": "code",
      "execution_count": null,
      "id": "dc1fae59-ff98-4a44-9ba1-d22361e58425",
      "metadata": {
        "id": "dc1fae59-ff98-4a44-9ba1-d22361e58425",
        "outputId": "39a5ed83-cec4-4c49-9b25-90bad6b54fb0"
      },
      "outputs": [
        {
          "data": {
            "text/plain": [
              "'135'"
            ]
          },
          "execution_count": 12,
          "metadata": {},
          "output_type": "execute_result"
        }
      ],
      "source": [
        "word = \"0123456789\"\n",
        "word[1: 6: 2]\n",
        "#word[0:]\n",
        "#word[:9]"
      ]
    },
    {
      "cell_type": "markdown",
      "id": "ecd000b7-cc5c-492e-97ab-c55a5a73d23d",
      "metadata": {
        "id": "ecd000b7-cc5c-492e-97ab-c55a5a73d23d"
      },
      "source": [
        "## String Functions"
      ]
    },
    {
      "cell_type": "code",
      "execution_count": null,
      "id": "222bf8d4-b731-4b65-a19e-6aab06d77a98",
      "metadata": {
        "id": "222bf8d4-b731-4b65-a19e-6aab06d77a98"
      },
      "outputs": [],
      "source": [
        "name=\"jasobant\""
      ]
    },
    {
      "cell_type": "markdown",
      "id": "f39017ae-c310-4ab0-80fb-e6bd86d445e1",
      "metadata": {
        "id": "f39017ae-c310-4ab0-80fb-e6bd86d445e1"
      },
      "source": [
        "1. len () function – This function returns the length of the strings"
      ]
    },
    {
      "cell_type": "code",
      "execution_count": null,
      "id": "9e02af1b-d7c7-465b-96f3-07742576172d",
      "metadata": {
        "id": "9e02af1b-d7c7-465b-96f3-07742576172d",
        "outputId": "6737c2cc-d27d-460c-f0ae-d260a6249b0a"
      },
      "outputs": [
        {
          "name": "stdout",
          "output_type": "stream",
          "text": [
            "8\n"
          ]
        }
      ],
      "source": [
        "print(len(name))"
      ]
    },
    {
      "cell_type": "markdown",
      "id": "71262989-8c42-4d7f-b872-bd8ac531bf89",
      "metadata": {
        "id": "71262989-8c42-4d7f-b872-bd8ac531bf89"
      },
      "source": [
        "2. name.endswith(\"bant\") – This function_ tells whether the variable string ends with\n",
        "the string \"bant\" or not. If string is \"\", it returns true for \"bant\" since jasobant ends\n",
        "with bant. also startswith(\"jaso\")"
      ]
    },
    {
      "cell_type": "code",
      "execution_count": null,
      "id": "140369c3-261b-4b9a-bf0d-444cabab65a9",
      "metadata": {
        "id": "140369c3-261b-4b9a-bf0d-444cabab65a9",
        "outputId": "4926bc60-e47d-48ae-d58f-8a90a184f1c7"
      },
      "outputs": [
        {
          "name": "stdout",
          "output_type": "stream",
          "text": [
            "True\n"
          ]
        }
      ],
      "source": [
        "print(name.endswith(\"bant\"))"
      ]
    },
    {
      "cell_type": "code",
      "execution_count": null,
      "id": "5709a015-83c2-461c-9edd-111bf4093a69",
      "metadata": {
        "id": "5709a015-83c2-461c-9edd-111bf4093a69",
        "outputId": "74c5c9bf-5bdb-41e6-a008-05eb5d935a29"
      },
      "outputs": [
        {
          "name": "stdout",
          "output_type": "stream",
          "text": [
            "True\n"
          ]
        }
      ],
      "source": [
        "print(name.startswith(\"jaso\"))"
      ]
    },
    {
      "cell_type": "markdown",
      "id": "cdcefca2-4c2e-4ffb-a416-1d994bfe99ee",
      "metadata": {
        "id": "cdcefca2-4c2e-4ffb-a416-1d994bfe99ee"
      },
      "source": [
        "3. string.count(\"c\") – counts the total number of occurrences of any character."
      ]
    },
    {
      "cell_type": "code",
      "execution_count": null,
      "id": "c894894d-d42c-4275-bff8-f920083c4b5c",
      "metadata": {
        "id": "c894894d-d42c-4275-bff8-f920083c4b5c",
        "outputId": "7463129b-30db-4f6b-eff0-7758db6b6c31"
      },
      "outputs": [
        {
          "name": "stdout",
          "output_type": "stream",
          "text": [
            "2\n"
          ]
        }
      ],
      "source": [
        "count=name.count(\"a\")\n",
        "print(count)"
      ]
    },
    {
      "cell_type": "markdown",
      "id": "ba164b99-c0f5-48d3-ae6c-31b4566fa59f",
      "metadata": {
        "id": "ba164b99-c0f5-48d3-ae6c-31b4566fa59f"
      },
      "source": [
        "4. string.capitalize()- this function capitalize the first character of a given string."
      ]
    },
    {
      "cell_type": "code",
      "execution_count": null,
      "id": "22646712-73a8-4577-8af3-254d3ef47468",
      "metadata": {
        "id": "22646712-73a8-4577-8af3-254d3ef47468",
        "outputId": "74e37287-4506-439b-ac49-fad2f66d90c2"
      },
      "outputs": [
        {
          "name": "stdout",
          "output_type": "stream",
          "text": [
            "Jasobant\n"
          ]
        }
      ],
      "source": [
        "print(name.capitalize()) #this funcn captalize the first letter of the string"
      ]
    },
    {
      "cell_type": "markdown",
      "id": "68c12994-299c-40f9-9637-1cc1f1fe3a0b",
      "metadata": {
        "id": "68c12994-299c-40f9-9637-1cc1f1fe3a0b"
      },
      "source": [
        "5. string.find(word) – This function finds a word and returns the index of first occurrence of that word in the string."
      ]
    },
    {
      "cell_type": "code",
      "execution_count": null,
      "id": "50267314-86da-4cd1-a20f-baa54a866cb3",
      "metadata": {
        "id": "50267314-86da-4cd1-a20f-baa54a866cb3",
        "outputId": "773351aa-7611-4626-a5ef-44accc8f0942"
      },
      "outputs": [
        {
          "name": "stdout",
          "output_type": "stream",
          "text": [
            "6\n"
          ]
        }
      ],
      "source": [
        "s=\"hello world\"\n",
        "index=s.find(\"world\")\n",
        "print(index)"
      ]
    },
    {
      "cell_type": "markdown",
      "id": "db6819b4-9daf-4c29-99be-d3073002575a",
      "metadata": {
        "id": "db6819b4-9daf-4c29-99be-d3073002575a"
      },
      "source": [
        "6. string.replace (old word, new word ) – This function replace the old word with\n",
        "new word in the entire string."
      ]
    },
    {
      "cell_type": "code",
      "execution_count": null,
      "id": "5cef9f2f-d27c-4931-9cf9-4900a7b56df7",
      "metadata": {
        "id": "5cef9f2f-d27c-4931-9cf9-4900a7b56df7",
        "outputId": "3faf6cac-cd9d-4dd4-f471-04d811623eb1"
      },
      "outputs": [
        {
          "name": "stdout",
          "output_type": "stream",
          "text": [
            "hello python\n"
          ]
        }
      ],
      "source": [
        "s=\"hello world\"\n",
        "replaced_string=s.replace(\"world\",\"python\")\n",
        "print(replaced_string)"
      ]
    },
    {
      "cell_type": "markdown",
      "id": "703ab0be-e423-46af-b95a-55ae520fd276",
      "metadata": {
        "id": "703ab0be-e423-46af-b95a-55ae520fd276"
      },
      "source": [
        "## Escape Sequence Character"
      ]
    },
    {
      "cell_type": "markdown",
      "id": "ba3af098-9686-4969-ac59-89ab8d210ee2",
      "metadata": {
        "id": "ba3af098-9686-4969-ac59-89ab8d210ee2"
      },
      "source": [
        "- Sequence of characters after backslash \"\\\" → Escape Sequence characters\n",
        "- \\n - new lines\n",
        "- \\t - tab\n",
        "- \\\" - single quote\n",
        "- \\\\ - blackslash"
      ]
    },
    {
      "cell_type": "code",
      "execution_count": null,
      "id": "f25d70bb-78b3-47b8-af66-3d19395bfd75",
      "metadata": {
        "id": "f25d70bb-78b3-47b8-af66-3d19395bfd75",
        "outputId": "a4a190bd-2575-4423-b396-084be5d712cf"
      },
      "outputs": [
        {
          "name": "stdout",
          "output_type": "stream",
          "text": [
            "Jaso is a good boy \n",
            " but no a bad \t boy\n"
          ]
        }
      ],
      "source": [
        "a=\"Jaso is a good boy \\n but no a bad \\t boy\"\n",
        "print(a)"
      ]
    },
    {
      "cell_type": "markdown",
      "id": "17e99880-041f-471a-a9de-55427996719d",
      "metadata": {
        "id": "17e99880-041f-471a-a9de-55427996719d"
      },
      "source": [
        "## Chapter-3 Practice"
      ]
    },
    {
      "cell_type": "markdown",
      "id": "7f60f7ce-973e-440f-8ebc-7a4fa4572a56",
      "metadata": {
        "id": "7f60f7ce-973e-440f-8ebc-7a4fa4572a56"
      },
      "source": [
        "1. Write a python program to display a user entered name followed by Good\n",
        "Afternoon using input () function."
      ]
    },
    {
      "cell_type": "code",
      "execution_count": null,
      "id": "106afe0d-d3eb-4f4a-a8c9-25b37a1f1661",
      "metadata": {
        "id": "106afe0d-d3eb-4f4a-a8c9-25b37a1f1661",
        "outputId": "2aae9944-c0c4-4fd8-c500-8eb9d5e64a37"
      },
      "outputs": [
        {
          "name": "stdout",
          "output_type": "stream",
          "text": [
            "Enter your name:  anu\n"
          ]
        },
        {
          "name": "stdout",
          "output_type": "stream",
          "text": [
            "Good Morning, anu\n"
          ]
        }
      ],
      "source": [
        "name=input(\"Enter your name: \")\n",
        "print(f\"Good Morning, {name}\")"
      ]
    },
    {
      "cell_type": "markdown",
      "id": "6c274ae6-39e3-47ab-a7ce-d18908c4a6c8",
      "metadata": {
        "id": "6c274ae6-39e3-47ab-a7ce-d18908c4a6c8"
      },
      "source": [
        "2. Write a program to fill in a letter template given below with name and date.\n",
        "letter = '''Dear <|Name|>,\n",
        "You are selected!\n",
        "<|Date|>'''"
      ]
    },
    {
      "cell_type": "code",
      "execution_count": null,
      "id": "896bdcd3-202b-4f31-9ed9-71e8d17de4a2",
      "metadata": {
        "id": "896bdcd3-202b-4f31-9ed9-71e8d17de4a2",
        "outputId": "be5e7cba-694c-4ecf-facf-515181ee85fd"
      },
      "outputs": [
        {
          "name": "stdout",
          "output_type": "stream",
          "text": [
            "Dear Jasobant,\n",
            "You are selected!\n",
            "10 October 2024\n"
          ]
        }
      ],
      "source": [
        "letter = '''Dear <|Name|>,\n",
        "You are selected!\n",
        "<|Date|>'''\n",
        "\n",
        "print(letter.replace(\"<|Name|>\", \"Jasobant\").replace(\"<|Date|>\", \"10 October 2024\"))"
      ]
    },
    {
      "cell_type": "markdown",
      "id": "fe262f60-8bdd-42b0-8c83-c47a95775260",
      "metadata": {
        "id": "fe262f60-8bdd-42b0-8c83-c47a95775260"
      },
      "source": [
        "3. Write a program to detect triple space in a string."
      ]
    },
    {
      "cell_type": "code",
      "execution_count": null,
      "id": "829c914a-06a5-4dc2-a36e-4f260c418860",
      "metadata": {
        "id": "829c914a-06a5-4dc2-a36e-4f260c418860",
        "outputId": "e4042cf2-0296-473f-e9d4-1c2218f71646"
      },
      "outputs": [
        {
          "name": "stdout",
          "output_type": "stream",
          "text": [
            "14\n"
          ]
        }
      ],
      "source": [
        "name=\"jaso is a good   boy\" # btn good bot therre is 3 space\n",
        "print(name.find(\"   \"))"
      ]
    },
    {
      "cell_type": "markdown",
      "id": "ac3f1baa-4099-48b0-9f0d-053197ebf6b3",
      "metadata": {
        "id": "ac3f1baa-4099-48b0-9f0d-053197ebf6b3"
      },
      "source": [
        "4. Replace the triple space from problem 3 with single spaces."
      ]
    },
    {
      "cell_type": "code",
      "execution_count": null,
      "id": "750d2bba-8894-4204-8330-2eff0c201beb",
      "metadata": {
        "id": "750d2bba-8894-4204-8330-2eff0c201beb",
        "outputId": "2b69e67a-3930-43c0-a23b-73ace64ffc0a"
      },
      "outputs": [
        {
          "name": "stdout",
          "output_type": "stream",
          "text": [
            "jaso is a good boy\n",
            "jaso is a good   boy\n"
          ]
        }
      ],
      "source": [
        "name=\"jaso is a good   boy\" # btn good bot therre is 3 space\n",
        "print(name.replace(\"   \",\" \"))\n",
        "print(name) # Strings are immutable which means that you cannot change them by runnung functions on them."
      ]
    },
    {
      "cell_type": "markdown",
      "id": "afeb161b-e518-48d3-a7fb-7898a9980595",
      "metadata": {
        "id": "afeb161b-e518-48d3-a7fb-7898a9980595"
      },
      "source": [
        "5. Write a program to format the following letter using escape sequence\n",
        "characters.\n",
        "letter = \"Dear Harry, this python course is nice. Thanks!\""
      ]
    },
    {
      "cell_type": "code",
      "execution_count": null,
      "id": "01c5feb4-55e9-4a12-a1aa-89b16588afa7",
      "metadata": {
        "id": "01c5feb4-55e9-4a12-a1aa-89b16588afa7",
        "outputId": "359aa397-6cd7-4dce-94b7-ccdf5ec497ae"
      },
      "outputs": [
        {
          "name": "stdout",
          "output_type": "stream",
          "text": [
            "Dear Jaso,\n",
            " \t This python course is nice.\n",
            " Thanks!\n"
          ]
        }
      ],
      "source": [
        "letter = \"Dear Jaso,\\n \\t This python course is nice.\\n Thanks!\"\n",
        "print(letter)"
      ]
    },
    {
      "cell_type": "markdown",
      "id": "fa01481f-66eb-4b58-9f1b-9e2a8cbe6aa5",
      "metadata": {
        "jp-MarkdownHeadingCollapsed": true,
        "id": "fa01481f-66eb-4b58-9f1b-9e2a8cbe6aa5"
      },
      "source": [
        "# CHAPTER-4 (LISTS AND TUPLES)"
      ]
    },
    {
      "cell_type": "markdown",
      "id": "e54762ce-5e66-4588-bf09-52465c45600c",
      "metadata": {
        "id": "e54762ce-5e66-4588-bf09-52465c45600c"
      },
      "source": [
        "- Python lists are containers to store a set of values of any data type.\n",
        "- A list is an mutable data type in python."
      ]
    },
    {
      "cell_type": "code",
      "execution_count": null,
      "id": "9883b9fa-8e5b-4581-a6a3-90107b09c4ad",
      "metadata": {
        "id": "9883b9fa-8e5b-4581-a6a3-90107b09c4ad",
        "outputId": "05e2d5c8-60f3-46a1-8040-29ac0dc26d26"
      },
      "outputs": [
        {
          "name": "stdout",
          "output_type": "stream",
          "text": [
            "Apple\n",
            "Grapes\n",
            "['Grapes', 'Orange', 7, 785.46, 'Akash']\n"
          ]
        }
      ],
      "source": [
        "friends = [\"Apple\", \"Orange\", 7, 785.46, \"Akash\"]\n",
        "print(friends[0])\n",
        "\n",
        "friends[0] = \"Grapes\" #list is muttable in nature thus apple changed to grapes.\n",
        "print(friends[0])\n",
        "print(friends)"
      ]
    },
    {
      "cell_type": "markdown",
      "id": "34de2acc-ee01-43bd-98a8-0605461a8e58",
      "metadata": {
        "id": "34de2acc-ee01-43bd-98a8-0605461a8e58"
      },
      "source": [
        "## List Indexing"
      ]
    },
    {
      "cell_type": "markdown",
      "id": "10ed8394-51b6-4d1e-b08a-94260bc5f40d",
      "metadata": {
        "id": "10ed8394-51b6-4d1e-b08a-94260bc5f40d"
      },
      "source": [
        "- A list can be indexed just like a string"
      ]
    },
    {
      "cell_type": "code",
      "execution_count": null,
      "id": "9f434fd8-2ca1-4972-a4d4-653a8afbf137",
      "metadata": {
        "id": "9f434fd8-2ca1-4972-a4d4-653a8afbf137",
        "outputId": "9ba69608-a439-4420-fdaf-394e6888d8e0"
      },
      "outputs": [
        {
          "name": "stdout",
          "output_type": "stream",
          "text": [
            "Akash\n",
            "['Orange', 7]\n"
          ]
        }
      ],
      "source": [
        "friends = [\"Apple\", \"Orange\", 7, 785.46, \"Akash\"] #index o to 4 & mutable\n",
        "print(friends[4])\n",
        "print(friends[1:3])"
      ]
    },
    {
      "cell_type": "markdown",
      "id": "317dd1ad-8d6c-4572-8832-940909764e15",
      "metadata": {
        "id": "317dd1ad-8d6c-4572-8832-940909764e15"
      },
      "source": [
        "## List Methods"
      ]
    },
    {
      "cell_type": "code",
      "execution_count": null,
      "id": "682f9a7d-fe16-443c-88e7-b77647ba1088",
      "metadata": {
        "id": "682f9a7d-fe16-443c-88e7-b77647ba1088"
      },
      "outputs": [],
      "source": [
        "l1 = [1,8,45,851, 7,2,21,15]"
      ]
    },
    {
      "cell_type": "markdown",
      "id": "62bf37da-3620-4803-97b6-d84f5be3aa58",
      "metadata": {
        "id": "62bf37da-3620-4803-97b6-d84f5be3aa58"
      },
      "source": [
        "1. l1.sort(): updates the list to [1, 2, 7, 8, 15, 21, 45, 851].\n",
        "2. l1.reverse(): updates the list to\n",
        "[851, 45, 21, 15, 8, 7, 2, 1\n",
        ".\n",
        "3. l1.appen78.4(8): add7s.4 8 at the end of the list.\n",
        "4. l1.inser5(69.96,8): This will ad69.96 8 a5 3 index.\n",
        "5. l1.po3(2): Will delete element at inde3 2 and return its value.\n",
        "6. l1.remov78.421): Will remov78.421 from the list.ist.  list"
      ]
    },
    {
      "cell_type": "code",
      "execution_count": null,
      "id": "a1a96b9d-b88c-44c0-bf4b-cecdea98f450",
      "metadata": {
        "id": "a1a96b9d-b88c-44c0-bf4b-cecdea98f450",
        "outputId": "831adf69-cafd-4307-fca4-220532e04246"
      },
      "outputs": [
        {
          "name": "stdout",
          "output_type": "stream",
          "text": [
            "[1, 2, 7, 8, 15, 21, 45, 851]\n"
          ]
        }
      ],
      "source": [
        "l1.sort() #sort in arranged format\n",
        "print(l1)"
      ]
    },
    {
      "cell_type": "code",
      "execution_count": null,
      "id": "3732355a-05e6-4af5-9b24-1c5cf6111f7d",
      "metadata": {
        "id": "3732355a-05e6-4af5-9b24-1c5cf6111f7d",
        "outputId": "7aab1c63-f67a-47f4-ce37-68d2b224a96b"
      },
      "outputs": [
        {
          "name": "stdout",
          "output_type": "stream",
          "text": [
            "[851, 45, 21, 15, 8, 7, 2, 1]\n"
          ]
        }
      ],
      "source": [
        "l1.reverse() #reserve to updated exxisting list\n",
        "print(l1)"
      ]
    },
    {
      "cell_type": "code",
      "execution_count": null,
      "id": "fe9181da-e17f-4c36-942a-409a68b6b304",
      "metadata": {
        "id": "fe9181da-e17f-4c36-942a-409a68b6b304",
        "outputId": "3ab4fef8-8fb3-4caf-b9c8-e216d56d81eb"
      },
      "outputs": [
        {
          "name": "stdout",
          "output_type": "stream",
          "text": [
            "[851, 45, 21, 15, 8, 7, 2, 1, 78.4, 78.4]\n"
          ]
        }
      ],
      "source": [
        "l1.append(78.4) #Add 78.4 in the end list\n",
        "print(l1)"
      ]
    },
    {
      "cell_type": "code",
      "execution_count": null,
      "id": "8b054aa4-055a-433b-8fa7-79447f459a54",
      "metadata": {
        "id": "8b054aa4-055a-433b-8fa7-79447f459a54",
        "outputId": "da8dce04-1863-4100-99eb-bddd568abe77"
      },
      "outputs": [
        {
          "name": "stdout",
          "output_type": "stream",
          "text": [
            "[851, 45, 21, 15, 8, 69.96, 7, 2, 1, 78.4, 78.4]\n"
          ]
        }
      ],
      "source": [
        "l1.insert(5, 69.96) # insert 69.96 into its index in the list is 5.\n",
        "print(l1)"
      ]
    },
    {
      "cell_type": "code",
      "execution_count": null,
      "id": "dc949810-9e94-4304-a436-ee67f26fb26d",
      "metadata": {
        "id": "dc949810-9e94-4304-a436-ee67f26fb26d",
        "outputId": "1f99f37b-e759-406b-df12-bd35486dc8f6"
      },
      "outputs": [
        {
          "name": "stdout",
          "output_type": "stream",
          "text": [
            "[851, 45, 21, 8, 69.96, 7, 2, 1, 78.4, 78.4]\n",
            "8\n"
          ]
        }
      ],
      "source": [
        "l1.pop(3) #delete the index 3  value 15.\n",
        "print(l1)\n",
        "print(l1.pop(3))"
      ]
    },
    {
      "cell_type": "code",
      "execution_count": null,
      "id": "cdeb270e-eda0-4bd2-8295-7b00aa4d664f",
      "metadata": {
        "id": "cdeb270e-eda0-4bd2-8295-7b00aa4d664f",
        "outputId": "7e41c583-035a-4147-d844-f160eaf42741"
      },
      "outputs": [
        {
          "name": "stdout",
          "output_type": "stream",
          "text": [
            "[851, 45, 21, 69.96, 7, 2, 1, 78.4]\n"
          ]
        }
      ],
      "source": [
        "l1.remove(78.4)\n",
        "print(l1)"
      ]
    },
    {
      "cell_type": "markdown",
      "id": "435d554b-cff9-44c8-b17f-c2c4994578d4",
      "metadata": {
        "id": "435d554b-cff9-44c8-b17f-c2c4994578d4"
      },
      "source": [
        "## Tuples in Python"
      ]
    },
    {
      "cell_type": "markdown",
      "id": "fd03a176-75a5-466b-b6ac-5b1d0775c054",
      "metadata": {
        "id": "fd03a176-75a5-466b-b6ac-5b1d0775c054"
      },
      "source": [
        "- A tuple is an immutable data type in python."
      ]
    },
    {
      "cell_type": "code",
      "execution_count": null,
      "id": "0a342cbd-31fc-4ab4-bcd8-b50d2fe10a6b",
      "metadata": {
        "id": "0a342cbd-31fc-4ab4-bcd8-b50d2fe10a6b"
      },
      "outputs": [],
      "source": [
        "a = () # empty tuple\n",
        "a = (1) #it is int\n",
        "a = (1,) # tuple with only one element needs a comma\n",
        "a = (1,7,2) # tuple with more than one element"
      ]
    },
    {
      "cell_type": "markdown",
      "id": "733193dd-47cd-4ddb-ba9e-f887e91bfbe6",
      "metadata": {
        "id": "733193dd-47cd-4ddb-ba9e-f887e91bfbe6"
      },
      "source": [
        "## Tuple Methods"
      ]
    },
    {
      "cell_type": "code",
      "execution_count": null,
      "id": "ecceb17f-d684-4f96-a367-8cdd2ba3aada",
      "metadata": {
        "id": "ecceb17f-d684-4f96-a367-8cdd2ba3aada"
      },
      "outputs": [],
      "source": [
        "a= (1, 45, 345, 45, False, \"rohan\", \"shivam\")"
      ]
    },
    {
      "cell_type": "markdown",
      "id": "3dcccef5-a27c-4c3d-8e55-d10b315900ef",
      "metadata": {
        "id": "3dcccef5-a27c-4c3d-8e55-d10b315900ef"
      },
      "source": [
        "1. a.count (45): a count (45) will return number of times 2 occurs in a.\n",
        "2. a.index (345) will return the index of first occurrence of 2 in a."
      ]
    },
    {
      "cell_type": "code",
      "execution_count": null,
      "id": "63d239a5-1611-40d7-aca4-89f9793f0fd7",
      "metadata": {
        "id": "63d239a5-1611-40d7-aca4-89f9793f0fd7",
        "outputId": "08dc358c-f421-40b1-f82a-7f7568387b02"
      },
      "outputs": [
        {
          "name": "stdout",
          "output_type": "stream",
          "text": [
            "2\n"
          ]
        }
      ],
      "source": [
        "no= a.count(45)\n",
        "print(no)"
      ]
    },
    {
      "cell_type": "code",
      "execution_count": null,
      "id": "db87da9c-fb07-45dd-bfde-0f478c64940c",
      "metadata": {
        "id": "db87da9c-fb07-45dd-bfde-0f478c64940c",
        "outputId": "9fd5d335-417d-48bf-87e5-5ec4f2a32d8e"
      },
      "outputs": [
        {
          "name": "stdout",
          "output_type": "stream",
          "text": [
            "2\n"
          ]
        }
      ],
      "source": [
        "i = a.index(345)\n",
        "print(i)"
      ]
    },
    {
      "cell_type": "markdown",
      "id": "50cdca80-1974-4cc2-a68b-8fda75f9e3bf",
      "metadata": {
        "id": "50cdca80-1974-4cc2-a68b-8fda75f9e3bf"
      },
      "source": [
        "## Chapter-4 Practice"
      ]
    },
    {
      "cell_type": "markdown",
      "id": "1a82902f-8cbe-4ad7-a351-eb3255e0b094",
      "metadata": {
        "id": "1a82902f-8cbe-4ad7-a351-eb3255e0b094"
      },
      "source": [
        "1. Write a program to store seven fruits in a list entered by the user."
      ]
    },
    {
      "cell_type": "code",
      "execution_count": null,
      "id": "e679bb06-ea7d-4dc3-bc37-9ed3f6f2311d",
      "metadata": {
        "id": "e679bb06-ea7d-4dc3-bc37-9ed3f6f2311d",
        "outputId": "811921fd-cbff-46e5-9798-ba36bae91c80"
      },
      "outputs": [
        {
          "name": "stdout",
          "output_type": "stream",
          "text": [
            "Enter Fruit name:  banana\n",
            "Enter Fruit name:  apple\n",
            "Enter Fruit name:  grapes\n",
            "Enter Fruit name:  orange\n",
            "Enter Fruit name:  pineapple\n"
          ]
        },
        {
          "name": "stdout",
          "output_type": "stream",
          "text": [
            "['banana', 'apple', 'grapes', 'orange', 'pineapple']\n"
          ]
        }
      ],
      "source": [
        "fruits = []\n",
        "\n",
        "f1=input(\"Enter Fruit name: \")\n",
        "fruits.append(f1)\n",
        "f2=input(\"Enter Fruit name: \")\n",
        "fruits.append(f2)\n",
        "f3=input(\"Enter Fruit name: \")\n",
        "fruits.append(f3)\n",
        "f4=input(\"Enter Fruit name: \")\n",
        "fruits.append(f4)\n",
        "f5=input(\"Enter Fruit name: \")\n",
        "fruits.append(f5)\n",
        "\n",
        "print(fruits)"
      ]
    },
    {
      "cell_type": "markdown",
      "id": "74b8b31c-1bc4-4780-8646-4bc9bd464084",
      "metadata": {
        "id": "74b8b31c-1bc4-4780-8646-4bc9bd464084"
      },
      "source": [
        "2. Write a program to accept marks of 6 students and display them in a sorted\n",
        "manner."
      ]
    },
    {
      "cell_type": "code",
      "execution_count": null,
      "id": "6ecbe3e4-0338-446e-8022-ebadd62e3f09",
      "metadata": {
        "id": "6ecbe3e4-0338-446e-8022-ebadd62e3f09",
        "outputId": "f33ac826-a21c-4c9b-97da-d8faf6ee4e8d"
      },
      "outputs": [
        {
          "name": "stdout",
          "output_type": "stream",
          "text": [
            "Enter marks here:  78\n",
            "Enter marks here:  45\n",
            "Enter marks here:  52\n",
            "Enter marks here:  63\n",
            "Enter marks here:  95\n",
            "Enter marks here:  56\n"
          ]
        },
        {
          "name": "stdout",
          "output_type": "stream",
          "text": [
            "[45, 52, 56, 63, 78, 95]\n"
          ]
        }
      ],
      "source": [
        "marks = []\n",
        "\n",
        "f1=int(input(\"Enter marks here: \"))\n",
        "marks.append(f1)\n",
        "f2=int(input(\"Enter marks here: \"))\n",
        "marks.append(f2)\n",
        "f3=int(input(\"Enter marks here: \"))\n",
        "marks.append(f3)\n",
        "f4=int(input(\"Enter marks here: \"))\n",
        "marks.append(f4)\n",
        "f5=int(input(\"Enter marks here: \"))\n",
        "marks.append(f5)\n",
        "f6=int(input(\"Enter marks here: \"))\n",
        "marks.append(f6)\n",
        "\n",
        "marks.sort()\n",
        "print(marks)"
      ]
    },
    {
      "cell_type": "markdown",
      "id": "ce7c8a29-2eff-43ef-82ba-dd0af98291f4",
      "metadata": {
        "id": "ce7c8a29-2eff-43ef-82ba-dd0af98291f4"
      },
      "source": [
        "3. Check that a tuple type cannot be changed in python"
      ]
    },
    {
      "cell_type": "code",
      "execution_count": null,
      "id": "4d4afa84-a687-4cd1-bcb9-7558eabe161c",
      "metadata": {
        "id": "4d4afa84-a687-4cd1-bcb9-7558eabe161c",
        "outputId": "53c55023-852a-440e-ad49-5647b7efb291"
      },
      "outputs": [
        {
          "ename": "TypeError",
          "evalue": "'tuple' object does not support item assignment",
          "output_type": "error",
          "traceback": [
            "\u001b[1;31m---------------------------------------------------------------------------\u001b[0m",
            "\u001b[1;31mTypeError\u001b[0m                                 Traceback (most recent call last)",
            "Cell \u001b[1;32mIn[38], line 2\u001b[0m\n\u001b[0;32m      1\u001b[0m a\u001b[38;5;241m=\u001b[39m(\u001b[38;5;241m47\u001b[39m,\u001b[38;5;241m788\u001b[39m,\u001b[38;5;124m\"\u001b[39m\u001b[38;5;124mrosy\u001b[39m\u001b[38;5;124m\"\u001b[39m)\n\u001b[1;32m----> 2\u001b[0m a[\u001b[38;5;241m2\u001b[39m]\u001b[38;5;241m=\u001b[39m\u001b[38;5;124m\"\u001b[39m\u001b[38;5;124mlorry\u001b[39m\u001b[38;5;124m\"\u001b[39m\n",
            "\u001b[1;31mTypeError\u001b[0m: 'tuple' object does not support item assignment"
          ]
        }
      ],
      "source": [
        "a=(47,788,\"rosy\")\n",
        "a[2]=\"lorry\""
      ]
    },
    {
      "cell_type": "markdown",
      "id": "bc75de45-ae34-4181-9f3d-6678766077ff",
      "metadata": {
        "id": "bc75de45-ae34-4181-9f3d-6678766077ff"
      },
      "source": [
        "4. Write a program to sum a list with 4 numbers."
      ]
    },
    {
      "cell_type": "code",
      "execution_count": null,
      "id": "dd861adf-0a15-43bd-8253-1a922da58eeb",
      "metadata": {
        "id": "dd861adf-0a15-43bd-8253-1a922da58eeb",
        "outputId": "33285e06-4453-4333-9fcf-21ba9629b0c7"
      },
      "outputs": [
        {
          "name": "stdout",
          "output_type": "stream",
          "text": [
            "21\n"
          ]
        }
      ],
      "source": [
        "l1=[3, 5 , 7 ,6]\n",
        "print(sum(l1))"
      ]
    },
    {
      "cell_type": "markdown",
      "id": "ad61b5ca-1081-4a96-bc02-12737ee75561",
      "metadata": {
        "id": "ad61b5ca-1081-4a96-bc02-12737ee75561"
      },
      "source": [
        "5. Write a program to count the number of zeros in the following tuple:\n",
        "a = (7, 0, 8, 0, 0, 9)"
      ]
    },
    {
      "cell_type": "code",
      "execution_count": null,
      "id": "53e69c6f-58e2-4e52-9c09-45be4aae91fb",
      "metadata": {
        "id": "53e69c6f-58e2-4e52-9c09-45be4aae91fb",
        "outputId": "448122e8-93cb-4a23-8c7d-2d045a970a64"
      },
      "outputs": [
        {
          "name": "stdout",
          "output_type": "stream",
          "text": [
            "3\n"
          ]
        }
      ],
      "source": [
        "a = (7, 0, 8, 0, 0, 9)\n",
        "\n",
        "n = a.count(0)\n",
        "print(n)"
      ]
    },
    {
      "cell_type": "markdown",
      "id": "e16d4a45-6340-461b-8240-e17f309cdc5f",
      "metadata": {
        "jp-MarkdownHeadingCollapsed": true,
        "id": "e16d4a45-6340-461b-8240-e17f309cdc5f"
      },
      "source": [
        "# CHAPTER-5 (DICTIONARY & SETS)"
      ]
    },
    {
      "cell_type": "markdown",
      "id": "44b9e648-e6fa-4764-9ec1-2a8ba8b3610f",
      "metadata": {
        "id": "44b9e648-e6fa-4764-9ec1-2a8ba8b3610f"
      },
      "source": [
        "- Dictionary is a collection of keys-value pairs."
      ]
    },
    {
      "cell_type": "code",
      "execution_count": null,
      "id": "5e6816b4-ac9f-4967-8422-891030451650",
      "metadata": {
        "id": "5e6816b4-ac9f-4967-8422-891030451650"
      },
      "outputs": [],
      "source": [
        "marks = {\n",
        "    \"key\": \"value\",\n",
        "    \"Jaso\" : 8.13,\n",
        "    \"anu\" : 9.2,\n",
        "    \"harry\": \"code\",\n",
        "    \"mark\": \"100\",\n",
        "    \"list\": [1, 2, 9]\n",
        "}\n",
        "\n",
        "marks = {} #this is empty dictionary"
      ]
    },
    {
      "cell_type": "code",
      "execution_count": null,
      "id": "cf641d14-a1f7-418a-9b55-f0c62e04e199",
      "metadata": {
        "id": "cf641d14-a1f7-418a-9b55-f0c62e04e199",
        "outputId": "a76d673f-b807-4b34-e9d7-0d6d21876fc4"
      },
      "outputs": [
        {
          "name": "stdout",
          "output_type": "stream",
          "text": [
            "{'key': 'value', 'Jaso': 8.13, 'anu': 9.2, 'harry': 'code', 'mark': '100', 'list': [1, 2, 9]} <class 'dict'>\n"
          ]
        }
      ],
      "source": [
        "print(marks, type(marks))"
      ]
    },
    {
      "cell_type": "code",
      "execution_count": null,
      "id": "db276fb0-d9e7-4366-a67d-d86593d444ab",
      "metadata": {
        "id": "db276fb0-d9e7-4366-a67d-d86593d444ab",
        "outputId": "42a8cbb4-6681-4dba-8684-7fa0e9de9970"
      },
      "outputs": [
        {
          "name": "stdout",
          "output_type": "stream",
          "text": [
            "8.13\n"
          ]
        }
      ],
      "source": [
        "print (marks[\"Jaso\"])"
      ]
    },
    {
      "cell_type": "code",
      "execution_count": null,
      "id": "8782cde9-79ec-403e-9848-c24e656466c3",
      "metadata": {
        "id": "8782cde9-79ec-403e-9848-c24e656466c3",
        "outputId": "047e6f5d-b2e3-4e95-f3e8-b79845ba6d3b"
      },
      "outputs": [
        {
          "data": {
            "text/plain": [
              "[1, 2, 9]"
            ]
          },
          "execution_count": 28,
          "metadata": {},
          "output_type": "execute_result"
        }
      ],
      "source": [
        "marks[\"list\"]"
      ]
    },
    {
      "cell_type": "markdown",
      "id": "540f8543-3f71-4e1d-8309-dc7f62fa21b0",
      "metadata": {
        "id": "540f8543-3f71-4e1d-8309-dc7f62fa21b0"
      },
      "source": [
        "## Properties of Python Dictionaries"
      ]
    },
    {
      "cell_type": "markdown",
      "id": "1b2a6b09-05a9-4151-aa6d-22e985a40427",
      "metadata": {
        "id": "1b2a6b09-05a9-4151-aa6d-22e985a40427"
      },
      "source": [
        "1. It is unordered.\n",
        "2. It is mutable.\n",
        "3. It is indexed.\n",
        "4. Cannot contain duplicate keys."
      ]
    },
    {
      "cell_type": "markdown",
      "id": "8d73576b-72ae-43d3-a284-8a1aef4c27d9",
      "metadata": {
        "id": "8d73576b-72ae-43d3-a284-8a1aef4c27d9"
      },
      "source": [
        "## Dictionary Methods"
      ]
    },
    {
      "cell_type": "code",
      "execution_count": null,
      "id": "2c936c23-1d44-4b84-bcfe-93215376d574",
      "metadata": {
        "id": "2c936c23-1d44-4b84-bcfe-93215376d574"
      },
      "outputs": [],
      "source": [
        "marks = {\n",
        "    \"Harry\" : 100,\n",
        "    \"Shubham\" : 75,\n",
        "    \"Raaj\" : 50,\n",
        "    0 : \"harry\"\n",
        "}"
      ]
    },
    {
      "cell_type": "markdown",
      "id": "ef9dd493-bc5b-4523-9d85-485ae4a32f01",
      "metadata": {
        "id": "ef9dd493-bc5b-4523-9d85-485ae4a32f01"
      },
      "source": [
        "* a.items(): Returns a list of (key,value)tuples\n",
        "* a.keys(): Returns a list containing dictionary's key.\n",
        "* a.update({\"friends\":}): Updates the dictionary with supplied key-value pair\n",
        "*  a.get(\"name\"): Returns the value of the specified keys (and value is retu ed*\n",
        "eg.\"harry\" is returned hre)."
      ]
    },
    {
      "cell_type": "code",
      "execution_count": null,
      "id": "e055c39b-47cf-4b33-8246-031558b658c4",
      "metadata": {
        "id": "e055c39b-47cf-4b33-8246-031558b658c4",
        "outputId": "5e6fd41a-3ac9-4cce-da1f-cfe6fdecfdaa"
      },
      "outputs": [
        {
          "name": "stdout",
          "output_type": "stream",
          "text": [
            "dict_items([('Harry', 100), ('Shubham', 75), ('Raaj', 50), (0, 'harry')])\n"
          ]
        }
      ],
      "source": [
        "print (marks.items())"
      ]
    },
    {
      "cell_type": "code",
      "execution_count": null,
      "id": "a606bbda-e02d-4883-9ecb-a8b7ee5156ed",
      "metadata": {
        "id": "a606bbda-e02d-4883-9ecb-a8b7ee5156ed",
        "outputId": "27c14eb2-1da2-4bcc-f639-9f1acd41cafb"
      },
      "outputs": [
        {
          "name": "stdout",
          "output_type": "stream",
          "text": [
            "dict_keys(['Harry', 'Shubham', 'Raaj', 0])\n"
          ]
        }
      ],
      "source": [
        "print (marks.keys())"
      ]
    },
    {
      "cell_type": "code",
      "execution_count": null,
      "id": "0292c054-eadc-44aa-a181-3cadc538a6ca",
      "metadata": {
        "id": "0292c054-eadc-44aa-a181-3cadc538a6ca",
        "outputId": "289f56f5-22f5-4669-9369-6001a80cf1d0"
      },
      "outputs": [
        {
          "name": "stdout",
          "output_type": "stream",
          "text": [
            "dict_values([100, 75, 50, 'harry'])\n"
          ]
        }
      ],
      "source": [
        "print (marks.values())"
      ]
    },
    {
      "cell_type": "code",
      "execution_count": null,
      "id": "2515d302-7708-4147-9e2e-35566b48a228",
      "metadata": {
        "id": "2515d302-7708-4147-9e2e-35566b48a228",
        "outputId": "9255b6c3-29ff-40ce-aa65-26659d468755"
      },
      "outputs": [
        {
          "name": "stdout",
          "output_type": "stream",
          "text": [
            "{'Harry': 99, 'Shubham': 75, 'Raaj': 50, 0: 'harry', 'Renuka': 96}\n"
          ]
        }
      ],
      "source": [
        "marks.update({\"Harry\":99, \"Renuka\":96 })\n",
        "print (marks)"
      ]
    },
    {
      "cell_type": "code",
      "execution_count": null,
      "id": "8ae367eb-4aea-4bd7-b0c0-c1c8ebeb54ec",
      "metadata": {
        "id": "8ae367eb-4aea-4bd7-b0c0-c1c8ebeb54ec",
        "outputId": "446686b6-bf1f-46ea-9f52-630083589fd2"
      },
      "outputs": [
        {
          "name": "stdout",
          "output_type": "stream",
          "text": [
            "None\n"
          ]
        },
        {
          "ename": "KeyError",
          "evalue": "'Harry2'",
          "output_type": "error",
          "traceback": [
            "\u001b[1;31m---------------------------------------------------------------------------\u001b[0m",
            "\u001b[1;31mKeyError\u001b[0m                                  Traceback (most recent call last)",
            "Cell \u001b[1;32mIn[58], line 2\u001b[0m\n\u001b[0;32m      1\u001b[0m \u001b[38;5;28mprint\u001b[39m(marks\u001b[38;5;241m.\u001b[39mget(\u001b[38;5;124m\"\u001b[39m\u001b[38;5;124mHarry2\u001b[39m\u001b[38;5;124m\"\u001b[39m)) \u001b[38;5;66;03m#prints None\u001b[39;00m\n\u001b[1;32m----> 2\u001b[0m \u001b[38;5;28mprint\u001b[39m(marks[\u001b[38;5;124m\"\u001b[39m\u001b[38;5;124mHarry2\u001b[39m\u001b[38;5;124m\"\u001b[39m])\n",
            "\u001b[1;31mKeyError\u001b[0m: 'Harry2'"
          ]
        }
      ],
      "source": [
        "print(marks.get(\"Harry2\")) #prints None\n",
        "print(marks[\"Harry2\"]) #Returns an error"
      ]
    },
    {
      "cell_type": "markdown",
      "id": "b67e96a7-5a11-46a4-89c7-7e4a5e3ff816",
      "metadata": {
        "id": "b67e96a7-5a11-46a4-89c7-7e4a5e3ff816"
      },
      "source": [
        "## Sets in Python"
      ]
    },
    {
      "cell_type": "markdown",
      "id": "511b7660-5e94-4823-9a8e-1b3f8e56187c",
      "metadata": {
        "id": "511b7660-5e94-4823-9a8e-1b3f8e56187c"
      },
      "source": [
        "- Set is a collection of non-repetitive elements."
      ]
    },
    {
      "cell_type": "code",
      "execution_count": null,
      "id": "cb571b83-d3fc-453f-81c0-dd794fe65549",
      "metadata": {
        "id": "cb571b83-d3fc-453f-81c0-dd794fe65549"
      },
      "outputs": [],
      "source": [
        "s = {1,5,12,54,5,5, \"Harry\"} #no repeatation is allowed\n",
        "\n",
        "e = set() #this is empty set. don't use s = {} as it will create an empty dictionary"
      ]
    },
    {
      "cell_type": "code",
      "execution_count": null,
      "id": "b897c1c6-137e-4e67-9dfa-ebae6dd99fe1",
      "metadata": {
        "id": "b897c1c6-137e-4e67-9dfa-ebae6dd99fe1",
        "outputId": "9b7ba854-884a-4ed6-d97a-803f74d2af16"
      },
      "outputs": [
        {
          "name": "stdout",
          "output_type": "stream",
          "text": [
            "{1, 5, 54, 12, 'Harry'} <class 'set'>\n"
          ]
        }
      ],
      "source": [
        "print(s, type(s))"
      ]
    },
    {
      "cell_type": "code",
      "execution_count": null,
      "id": "b8a8db28-5ea2-46a0-8b8d-45c88bc3a907",
      "metadata": {
        "id": "b8a8db28-5ea2-46a0-8b8d-45c88bc3a907",
        "outputId": "036b5933-b0e0-4d53-f00f-d0b3c3ad3dd8"
      },
      "outputs": [
        {
          "name": "stdout",
          "output_type": "stream",
          "text": [
            "{1, 5, 54, 566, 12, 'Harry'} <class 'set'>\n"
          ]
        }
      ],
      "source": [
        "s.add(566)\n",
        "print(s, type(s))"
      ]
    },
    {
      "cell_type": "markdown",
      "id": "79768eff-0b42-4d73-8820-a777ab36a18d",
      "metadata": {
        "id": "79768eff-0b42-4d73-8820-a777ab36a18d"
      },
      "source": [
        "## Properties of Sets"
      ]
    },
    {
      "cell_type": "markdown",
      "id": "4ed8a56a-8ffe-4a00-8d8c-fec00c46a6b1",
      "metadata": {
        "id": "4ed8a56a-8ffe-4a00-8d8c-fec00c46a6b1"
      },
      "source": [
        "1. Sets are unordered => Element’s order doesn’t matter\n",
        "2. Sets are unindexed => Cannot access elements by index\n",
        "3. There is no way to change items in sets.\n",
        "4. Sets cannot contain duplicate values."
      ]
    },
    {
      "cell_type": "markdown",
      "id": "41bd08c8-3a8a-4413-82b7-bedaa921a619",
      "metadata": {
        "id": "41bd08c8-3a8a-4413-82b7-bedaa921a619"
      },
      "source": [
        "## Operations on Sets"
      ]
    },
    {
      "cell_type": "code",
      "execution_count": null,
      "id": "581322e4-fa70-4712-b647-16a567200766",
      "metadata": {
        "id": "581322e4-fa70-4712-b647-16a567200766"
      },
      "outputs": [],
      "source": [
        "s = {1,2,3}"
      ]
    },
    {
      "cell_type": "markdown",
      "id": "002d9728-75fa-4a71-bd45-474cba3f5d63",
      "metadata": {
        "id": "002d9728-75fa-4a71-bd45-474cba3f5d63"
      },
      "source": [
        "- len(s): Returns 4, the length of the set\n",
        "- s.remove(8): Updates the set s and removes 8 from s.\n",
        "- s.pop(): Removes an arbitrary element from the set and return the element\n",
        "removed\n",
        "- s.clear():empties the set s.\n",
        "- s.union({8,11}): Returns a new set with all items from both sets. {1,8,2,3,11}.\n",
        "- s.intersection({8,11}): Return a set which contains only item in both sets {8}.."
      ]
    },
    {
      "cell_type": "code",
      "execution_count": null,
      "id": "226c32cf-560e-415c-b90d-daeb5f6d5969",
      "metadata": {
        "id": "226c32cf-560e-415c-b90d-daeb5f6d5969",
        "outputId": "20a25072-d2d1-4a0e-81f8-46794a15ee4b"
      },
      "outputs": [
        {
          "data": {
            "text/plain": [
              "4"
            ]
          },
          "execution_count": 103,
          "metadata": {},
          "output_type": "execute_result"
        }
      ],
      "source": [
        "len(s)"
      ]
    },
    {
      "cell_type": "code",
      "execution_count": null,
      "id": "973e8769-3bb9-403c-8227-fd3b4e85f906",
      "metadata": {
        "id": "973e8769-3bb9-403c-8227-fd3b4e85f906"
      },
      "outputs": [],
      "source": [
        "s.remove(1)"
      ]
    },
    {
      "cell_type": "code",
      "execution_count": null,
      "id": "14400522-2640-4a48-8ccb-06445c6f9c25",
      "metadata": {
        "id": "14400522-2640-4a48-8ccb-06445c6f9c25",
        "outputId": "75d63643-d4cb-4514-cf84-79de7137b263"
      },
      "outputs": [
        {
          "name": "stdout",
          "output_type": "stream",
          "text": [
            "{2, 3} <class 'set'>\n"
          ]
        }
      ],
      "source": [
        "print(s, type(s))"
      ]
    },
    {
      "cell_type": "code",
      "execution_count": null,
      "id": "a57f7572-61dd-4661-9695-efd50eb31133",
      "metadata": {
        "id": "a57f7572-61dd-4661-9695-efd50eb31133"
      },
      "outputs": [],
      "source": [
        "#Union & Intersection\n",
        "\n",
        "s1 = {1,45,6,78}\n",
        "s2 = {7,8,1,78}"
      ]
    },
    {
      "cell_type": "code",
      "execution_count": null,
      "id": "617da48c-28ea-47af-b92c-d52db5ca4466",
      "metadata": {
        "id": "617da48c-28ea-47af-b92c-d52db5ca4466",
        "outputId": "6bcdbd42-e429-4aa0-c25f-d7c5e57e9502"
      },
      "outputs": [
        {
          "name": "stdout",
          "output_type": "stream",
          "text": [
            "{1, 6, 7, 8, 45, 78}\n"
          ]
        }
      ],
      "source": [
        "print(s1.union(s2))"
      ]
    },
    {
      "cell_type": "code",
      "execution_count": null,
      "id": "1c614b0e-4ab3-427d-a781-d1a3685cc9df",
      "metadata": {
        "id": "1c614b0e-4ab3-427d-a781-d1a3685cc9df",
        "outputId": "629168e3-fcdd-4e24-afa9-4e727b0ad213"
      },
      "outputs": [
        {
          "name": "stdout",
          "output_type": "stream",
          "text": [
            "{1, 78}\n"
          ]
        }
      ],
      "source": [
        "print(s1.intersection(s2))"
      ]
    },
    {
      "cell_type": "markdown",
      "id": "f5e05b6f-3509-46e1-8cb6-a5af588381ec",
      "metadata": {
        "id": "f5e05b6f-3509-46e1-8cb6-a5af588381ec"
      },
      "source": [
        "## Chapter-5 Practice"
      ]
    },
    {
      "cell_type": "markdown",
      "id": "98319726-3e3e-4874-ad12-b6a6aa5410ea",
      "metadata": {
        "id": "98319726-3e3e-4874-ad12-b6a6aa5410ea"
      },
      "source": [
        "1. Write a program to create a dictionary of Hindi words with values as their English\n",
        "translation. Provide user with an option to look it up\n"
      ]
    },
    {
      "cell_type": "code",
      "execution_count": null,
      "id": "ab2566fe-0340-4cf1-8a2c-792ca1509285",
      "metadata": {
        "id": "ab2566fe-0340-4cf1-8a2c-792ca1509285",
        "outputId": "5af68f25-a152-42cf-a244-2e56637df14e"
      },
      "outputs": [
        {
          "name": "stdout",
          "output_type": "stream",
          "text": [
            "enter the word you want meaning of:  madad\n"
          ]
        },
        {
          "name": "stdout",
          "output_type": "stream",
          "text": [
            "Help\n"
          ]
        }
      ],
      "source": [
        "words = {\n",
        "    \"madad\":\"Help\",\n",
        "    \"khursi\":\"Chair\",\n",
        "    \"billi\":\"Cat\"\n",
        "}\n",
        "\n",
        "word = input(\"enter the word you want meaning of: \")\n",
        "\n",
        "print(words[word])"
      ]
    },
    {
      "cell_type": "markdown",
      "id": "56e050ee-da4a-420f-981a-c32a09dff951",
      "metadata": {
        "id": "56e050ee-da4a-420f-981a-c32a09dff951"
      },
      "source": [
        "2. Write a program to input eight numbers from the user and display all the unique\n",
        "numbers (once)\n"
      ]
    },
    {
      "cell_type": "code",
      "execution_count": null,
      "id": "ef0956b1-53b7-4c8f-99e2-74d72cd05d43",
      "metadata": {
        "id": "ef0956b1-53b7-4c8f-99e2-74d72cd05d43",
        "outputId": "c8eda7b5-375c-4374-990a-7be26c179380"
      },
      "outputs": [
        {
          "name": "stdout",
          "output_type": "stream",
          "text": [
            "Enter the number:  1\n",
            "Enter the number:  1\n",
            "Enter the number:  1\n",
            "Enter the number:  2\n",
            "Enter the number:  2\n",
            "Enter the number:  1\n",
            "Enter the number:  2\n",
            "Enter the number:  2\n"
          ]
        },
        {
          "name": "stdout",
          "output_type": "stream",
          "text": [
            "{1, 2}\n"
          ]
        }
      ],
      "source": [
        "s = set()\n",
        "n = input(\"Enter the number: \")\n",
        "s.add(int(n))\n",
        "n = input(\"Enter the number: \")\n",
        "s.add(int(n))\n",
        "n = input(\"Enter the number: \")\n",
        "s.add(int(n))\n",
        "n = input(\"Enter the number: \")\n",
        "s.add(int(n))\n",
        "n = input(\"Enter the number: \")\n",
        "s.add(int(n))\n",
        "n = input(\"Enter the number: \")\n",
        "s.add(int(n))\n",
        "n = input(\"Enter the number: \")\n",
        "s.add(int(n))\n",
        "n = input(\"Enter the number: \")\n",
        "s.add(int(n))\n",
        "\n",
        "print(s)"
      ]
    },
    {
      "cell_type": "markdown",
      "id": "ddc67b11-5116-478f-aa63-3005723c32c4",
      "metadata": {
        "id": "ddc67b11-5116-478f-aa63-3005723c32c4"
      },
      "source": [
        "3. Can we have a set with 18 (int) and '18' (str) as a value in it?"
      ]
    },
    {
      "cell_type": "code",
      "execution_count": null,
      "id": "873faa3d-bb64-4e8f-b219-d42bb8948df1",
      "metadata": {
        "id": "873faa3d-bb64-4e8f-b219-d42bb8948df1",
        "outputId": "9738244a-9313-46f5-aa00-6df847f5ad9d"
      },
      "outputs": [
        {
          "name": "stdout",
          "output_type": "stream",
          "text": [
            "{18, '18'}\n"
          ]
        }
      ],
      "source": [
        "s = set()\n",
        "s.add(18)\n",
        "s.add(\"18\")\n",
        "\n",
        "print(s)"
      ]
    },
    {
      "cell_type": "markdown",
      "id": "682b63ed-015f-4a64-8348-ac19a326e865",
      "metadata": {
        "id": "682b63ed-015f-4a64-8348-ac19a326e865"
      },
      "source": [
        "4. What will be the length of following set s:"
      ]
    },
    {
      "cell_type": "code",
      "execution_count": null,
      "id": "0a76794f-a716-4973-9896-9dcf2b5a1c42",
      "metadata": {
        "id": "0a76794f-a716-4973-9896-9dcf2b5a1c42",
        "outputId": "1b667679-ac73-46a7-a504-f5e307ab9321"
      },
      "outputs": [
        {
          "name": "stdout",
          "output_type": "stream",
          "text": [
            "{'20', 20}\n"
          ]
        },
        {
          "data": {
            "text/plain": [
              "2"
            ]
          },
          "execution_count": 27,
          "metadata": {},
          "output_type": "execute_result"
        }
      ],
      "source": [
        "s = set()\n",
        "s.add(20)\n",
        "s.add(20.0)\n",
        "s.add('20') # length of s after these operations?\n",
        "\n",
        "print(s)\n",
        "len(s)"
      ]
    },
    {
      "cell_type": "markdown",
      "id": "f9f98f64-5644-41e0-af1a-4201a0ab6de0",
      "metadata": {
        "id": "f9f98f64-5644-41e0-af1a-4201a0ab6de0"
      },
      "source": [
        "5. s = { }\n",
        "What is the type of 's'?"
      ]
    },
    {
      "cell_type": "code",
      "execution_count": null,
      "id": "47107310-cc7d-4c8c-8d15-f90fa143471f",
      "metadata": {
        "id": "47107310-cc7d-4c8c-8d15-f90fa143471f",
        "outputId": "5bbb8fc8-0d47-436e-9477-8d292c9f7ec5"
      },
      "outputs": [
        {
          "name": "stdout",
          "output_type": "stream",
          "text": [
            "<class 'dict'>\n"
          ]
        }
      ],
      "source": [
        "s = { }\n",
        "print(type(s))"
      ]
    },
    {
      "cell_type": "markdown",
      "id": "5994e1d8-a739-4b78-b338-52e63fdee940",
      "metadata": {
        "id": "5994e1d8-a739-4b78-b338-52e63fdee940"
      },
      "source": [
        "6. Create an empty dictionary. Allow 4 friends to enter their favorite language as\n",
        "value and use key as their names. Assume that the names are unique."
      ]
    },
    {
      "cell_type": "code",
      "execution_count": null,
      "id": "70437366-5ca0-43e6-a2aa-f3035034150c",
      "metadata": {
        "id": "70437366-5ca0-43e6-a2aa-f3035034150c",
        "outputId": "a7c5fa2f-fe04-41d5-e348-564a210f1a8e"
      },
      "outputs": [
        {
          "name": "stdout",
          "output_type": "stream",
          "text": [
            "Enter friends name:  jaso\n",
            "Enter language name:  python\n",
            "Enter friends name:  harish\n",
            "Enter language name:  R\n",
            "Enter friends name:  keshav\n",
            "Enter language name:  SQl\n",
            "Enter friends name:  chandresh\n",
            "Enter language name:  java\n"
          ]
        },
        {
          "name": "stdout",
          "output_type": "stream",
          "text": [
            "{'jaso': 'python', 'harish': 'R', 'keshav': 'SQl', 'chandresh': 'java'}\n"
          ]
        }
      ],
      "source": [
        "language = {}\n",
        "\n",
        "name = input(\"Enter friends name: \")\n",
        "lang = input(\"Enter language name: \")\n",
        "\n",
        "language.update({name: lang})\n",
        "name = input(\"Enter friends name: \")\n",
        "lang = input(\"Enter language name: \")\n",
        "\n",
        "language.update({name: lang})\n",
        "name = input(\"Enter friends name: \")\n",
        "lang = input(\"Enter language name: \")\n",
        "\n",
        "language.update({name: lang})\n",
        "name = input(\"Enter friends name: \")\n",
        "lang = input(\"Enter language name: \")\n",
        "\n",
        "language.update({name: lang})\n",
        "\n",
        "print(language)"
      ]
    },
    {
      "cell_type": "markdown",
      "id": "41f2f390-f6ac-44da-b3d0-de49786ea974",
      "metadata": {
        "id": "41f2f390-f6ac-44da-b3d0-de49786ea974"
      },
      "source": [
        "7. If the names of 2 friends are same; what will happen to the program in problem\n",
        "6?"
      ]
    },
    {
      "cell_type": "code",
      "execution_count": null,
      "id": "df5d78ae-3f30-4e55-a091-c4c781c37053",
      "metadata": {
        "id": "df5d78ae-3f30-4e55-a091-c4c781c37053",
        "outputId": "7a098454-7819-41bd-92c0-4103a1590c75"
      },
      "outputs": [
        {
          "name": "stdout",
          "output_type": "stream",
          "text": [
            "Enter friends name:  shubham\n",
            "Enter language name:  python\n",
            "Enter friends name:  jaso\n",
            "Enter language name:  python\n",
            "Enter friends name:  rohan\n",
            "Enter language name:  c##\n",
            "Enter friends name:  rohan\n",
            "Enter language name:  JS\n"
          ]
        },
        {
          "name": "stdout",
          "output_type": "stream",
          "text": [
            "{'shubham': 'python', 'jaso': 'python', 'rohan': 'JS'}\n"
          ]
        }
      ],
      "source": [
        "language = {}\n",
        "\n",
        "name = input(\"Enter friends name: \")\n",
        "lang = input(\"Enter language name: \")\n",
        "\n",
        "language.update({name: lang})\n",
        "name = input(\"Enter friends name: \")\n",
        "lang = input(\"Enter language name: \")\n",
        "\n",
        "language.update({name: lang})\n",
        "name = input(\"Enter friends name: \")\n",
        "lang = input(\"Enter language name: \")\n",
        "\n",
        "language.update({name: lang})\n",
        "name = input(\"Enter friends name: \")\n",
        "lang = input(\"Enter language name: \")\n",
        "\n",
        "language.update({name: lang})\n",
        "\n",
        "print(language)\n",
        "#it just  update the value of key pair."
      ]
    },
    {
      "cell_type": "markdown",
      "id": "766ba867-018b-4e36-b14a-fcdb02f397b8",
      "metadata": {
        "id": "766ba867-018b-4e36-b14a-fcdb02f397b8"
      },
      "source": [
        "8. If languages of two friends are same; what will happen to the program in problem\n",
        "6?"
      ]
    },
    {
      "cell_type": "markdown",
      "id": "2d49a045-8c77-435b-8c22-df9e944b6c97",
      "metadata": {
        "id": "2d49a045-8c77-435b-8c22-df9e944b6c97"
      },
      "source": [
        "yes the values cn be same. as keys are different & uniques. if keys are same then it will update the key  value"
      ]
    },
    {
      "cell_type": "markdown",
      "id": "550b098e-5d23-4624-b1ac-01b4fd2c112d",
      "metadata": {
        "id": "550b098e-5d23-4624-b1ac-01b4fd2c112d"
      },
      "source": [
        "9. Can you change the values inside a list which is contained in set S?"
      ]
    },
    {
      "cell_type": "code",
      "execution_count": null,
      "id": "f2c57905-aa26-4472-b96b-4ac602e6b00c",
      "metadata": {
        "id": "f2c57905-aa26-4472-b96b-4ac602e6b00c",
        "outputId": "c8bdd22e-72ae-4163-b8f7-11d7c596f5c7"
      },
      "outputs": [
        {
          "ename": "TypeError",
          "evalue": "unhashable type: 'list'",
          "output_type": "error",
          "traceback": [
            "\u001b[1;31m---------------------------------------------------------------------------\u001b[0m",
            "\u001b[1;31mTypeError\u001b[0m                                 Traceback (most recent call last)",
            "Cell \u001b[1;32mIn[3], line 1\u001b[0m\n\u001b[1;32m----> 1\u001b[0m s \u001b[38;5;241m=\u001b[39m {\u001b[38;5;241m8\u001b[39m, \u001b[38;5;241m7\u001b[39m, \u001b[38;5;241m12\u001b[39m, \u001b[38;5;124m\"\u001b[39m\u001b[38;5;124mHarry\u001b[39m\u001b[38;5;124m\"\u001b[39m, [\u001b[38;5;241m1\u001b[39m,\u001b[38;5;241m2\u001b[39m]}\n",
            "\u001b[1;31mTypeError\u001b[0m: unhashable type: 'list'"
          ]
        }
      ],
      "source": [
        "s = {8, 7, 12, \"Harry\", [1,2]}\n",
        "\n",
        "# result in a TypeError because a set in Python can only contain hashable and immutable elements. Lists, being mutable, are not hashable and therefore cannot be elements of a set."
      ]
    },
    {
      "cell_type": "markdown",
      "id": "7ebec06f-e5df-42a0-95e6-c6a45e001668",
      "metadata": {
        "jp-MarkdownHeadingCollapsed": true,
        "id": "7ebec06f-e5df-42a0-95e6-c6a45e001668"
      },
      "source": [
        "# CHAPTER-6 (CONDITIONAL EXPRESSION)"
      ]
    },
    {
      "cell_type": "markdown",
      "id": "7353a745-ee35-407f-a622-627909698b50",
      "metadata": {
        "id": "7353a745-ee35-407f-a622-627909698b50"
      },
      "source": [
        "## if else & elif in python"
      ]
    },
    {
      "cell_type": "markdown",
      "id": "0498c353-911c-4deb-936a-13f52f7b942c",
      "metadata": {
        "id": "0498c353-911c-4deb-936a-13f52f7b942c"
      },
      "source": [
        "If else and elif statements are a multiway decision taken by our program due to certain\n",
        "conditions in our code."
      ]
    },
    {
      "cell_type": "code",
      "execution_count": null,
      "id": "3f7c5603-c401-41cd-a054-8e8a6b5c2067",
      "metadata": {
        "id": "3f7c5603-c401-41cd-a054-8e8a6b5c2067",
        "outputId": "40f05204-7e1d-4601-cb6d-df58b3b9b1a6"
      },
      "outputs": [
        {
          "name": "stdout",
          "output_type": "stream",
          "text": [
            "Enter your age:  78\n"
          ]
        },
        {
          "name": "stdout",
          "output_type": "stream",
          "text": [
            "you are above the age of consent\n",
            "Good for you\n",
            "end of the program\n"
          ]
        }
      ],
      "source": [
        "a = int(input(\"Enter your age: \"))\n",
        "\n",
        "#If else statement\n",
        "if(a>=18):\n",
        "    print(\"you are above the age of consent\")\n",
        "    print(\"Good for you\")\n",
        "\n",
        "else:\n",
        "    print(\"You are below the age of consent\")\n",
        "\n",
        "print(\"end of the program\")"
      ]
    },
    {
      "cell_type": "code",
      "execution_count": null,
      "id": "7a37c184-de96-4311-a5c9-dede05508343",
      "metadata": {
        "id": "7a37c184-de96-4311-a5c9-dede05508343",
        "outputId": "b40af6c6-0de4-46c2-c845-154d77089360"
      },
      "outputs": [
        {
          "name": "stdout",
          "output_type": "stream",
          "text": [
            "Enter your age:  -12\n"
          ]
        },
        {
          "name": "stdout",
          "output_type": "stream",
          "text": [
            "You are entering an invalid negative age\n",
            "end of the program\n"
          ]
        }
      ],
      "source": [
        "a = int(input(\"Enter your age: \"))\n",
        "\n",
        "#If elif else ladder\n",
        "if(a>=18):\n",
        "    print(\"you are above the age of consent\")\n",
        "    print(\"Good for you\")\n",
        "\n",
        "elif(a<0):\n",
        "    print(\"You are entering an invalid negative age\")\n",
        "\n",
        "elif(a==0):\n",
        "    print(\"You are entering 0 which is not a valid age\")\n",
        "\n",
        "else:\n",
        "    print(\"You are below the age of consent\")\n",
        "\n",
        "print(\"end of the program\")"
      ]
    },
    {
      "cell_type": "markdown",
      "id": "8a6e46ca-1cdd-4e9b-ab1e-cf392213ab16",
      "metadata": {
        "id": "8a6e46ca-1cdd-4e9b-ab1e-cf392213ab16"
      },
      "source": [
        "## Relational/Comparison Operators"
      ]
    },
    {
      "cell_type": "markdown",
      "id": "c5ecbc55-13c9-4a4b-b70e-97abcce7fccf",
      "metadata": {
        "id": "c5ecbc55-13c9-4a4b-b70e-97abcce7fccf"
      },
      "source": [
        "Relational Operators are used to evaluate conditions inside the if statements. Some\n",
        "examples of relational operators are:\n",
        "```\n",
        "== : equals.\n",
        "> =: greater than/ equal to.\n",
        "< =: lesser than/ equal to.\n",
        "```"
      ]
    },
    {
      "cell_type": "markdown",
      "id": "5644e551-4e81-45aa-aa8c-63dcfc5049e0",
      "metadata": {
        "id": "5644e551-4e81-45aa-aa8c-63dcfc5049e0"
      },
      "source": [
        "## Logical Operators"
      ]
    },
    {
      "cell_type": "markdown",
      "id": "082b20ae-1902-4c8b-9436-5f829615f87c",
      "metadata": {
        "id": "082b20ae-1902-4c8b-9436-5f829615f87c"
      },
      "source": [
        "In python logical operators operate on conditional statements. For Example:\n",
        "* and – true if both operands are true else false.\n",
        "* or – true if at least one operand is true or else false.\n",
        "* not – inverts true to false & false to true."
      ]
    },
    {
      "cell_type": "markdown",
      "id": "5bfcc557-bd05-4f7c-9e94-5bedc02e3674",
      "metadata": {
        "id": "5bfcc557-bd05-4f7c-9e94-5bedc02e3674"
      },
      "source": [
        "## Multiple If Statement"
      ]
    },
    {
      "cell_type": "code",
      "execution_count": null,
      "id": "e34b1327-7800-4ed3-9027-7eb456e566ba",
      "metadata": {
        "id": "e34b1327-7800-4ed3-9027-7eb456e566ba",
        "outputId": "14a47442-7183-4e66-a869-14d5f4f03553"
      },
      "outputs": [
        {
          "name": "stdout",
          "output_type": "stream",
          "text": [
            "Enter your age:  14\n"
          ]
        },
        {
          "name": "stdout",
          "output_type": "stream",
          "text": [
            "a is even\n",
            "You are below the age of consent\n",
            "end of the program\n"
          ]
        }
      ],
      "source": [
        "a = int(input(\"Enter your age: \"))\n",
        "\n",
        "# If Statement no:1\n",
        "if(a%2 == 0):\n",
        "    print(\"a is even\")\n",
        "\n",
        "else:\n",
        "    print(\"a is odd\")\n",
        "# End of If Statement no:1\n",
        "\n",
        "# If Statement no:2\n",
        "if(a>=18):\n",
        "    print(\"you are above the age of consent\")\n",
        "    print(\"Good for you\")\n",
        "\n",
        "elif(a<0):\n",
        "    print(\"You are entering an invalid negative age\")\n",
        "\n",
        "else:\n",
        "    print(\"You are below the age of consent\")\n",
        "# End of If Statement no:2\n",
        "\n",
        "print(\"end of the program\")"
      ]
    },
    {
      "cell_type": "markdown",
      "id": "e8c64fb8-a177-41f2-88a3-f4294d3f3bd7",
      "metadata": {
        "id": "e8c64fb8-a177-41f2-88a3-f4294d3f3bd7"
      },
      "source": [
        "## Chapter-6 Practice"
      ]
    },
    {
      "cell_type": "markdown",
      "id": "e290be87-781a-4ecf-91b3-d56a58dd07c8",
      "metadata": {
        "id": "e290be87-781a-4ecf-91b3-d56a58dd07c8"
      },
      "source": [
        "1. Write a program to find the greatest of four numbers entered by the user.\n"
      ]
    },
    {
      "cell_type": "code",
      "execution_count": null,
      "id": "4e15aeeb-e69b-4e7b-9082-22ae6e16881d",
      "metadata": {
        "id": "4e15aeeb-e69b-4e7b-9082-22ae6e16881d",
        "outputId": "9fab9228-c14a-4d54-8f88-0c1079c0798b"
      },
      "outputs": [
        {
          "name": "stdout",
          "output_type": "stream",
          "text": [
            "Enter number 1:  12\n",
            "Enter number 2:  13\n",
            "Enter number 3:  14\n",
            "Enter number 4:  15\n"
          ]
        },
        {
          "name": "stdout",
          "output_type": "stream",
          "text": [
            "Greatest number is a4: 15\n"
          ]
        }
      ],
      "source": [
        "a1 = int(input(\"Enter number 1: \"))\n",
        "a2 = int(input(\"Enter number 2: \"))\n",
        "a3 = int(input(\"Enter number 3: \"))\n",
        "a4 = int(input(\"Enter number 4: \"))\n",
        "\n",
        "if(a1>a2 and a1>a3 and a1>a4):\n",
        "    print(\"Greatest number is a1:\", a1)\n",
        "\n",
        "elif(a2>a1 and a2>a3 and a2>a4):\n",
        "    print(\"Greatest number is a2:\", a2)\n",
        "\n",
        "elif(a3>a1 and a3>a2 and a3>a4):\n",
        "    print(\"Greatest number is a3:\", a3)\n",
        "\n",
        "elif(a4>a1 and a4>a2 and a4>a3):\n",
        "    print(\"Greatest number is a4:\", a4)"
      ]
    },
    {
      "cell_type": "markdown",
      "id": "f2efd47d-98b0-4228-8da8-749fd2b58956",
      "metadata": {
        "id": "f2efd47d-98b0-4228-8da8-749fd2b58956"
      },
      "source": [
        "2. Write a program to find out whether a student has passed or failed if it requires a\n",
        "total of 40% and at least 33% in each subject to pass. Assume 3 subjects and\n",
        "take marks as an input from the user."
      ]
    },
    {
      "cell_type": "code",
      "execution_count": null,
      "id": "c52208cd-957b-4034-8df9-d4e95b51fd6b",
      "metadata": {
        "id": "c52208cd-957b-4034-8df9-d4e95b51fd6b",
        "outputId": "a9b5053f-afeb-4f1e-87a6-f3f71bdc5517"
      },
      "outputs": [
        {
          "name": "stdout",
          "output_type": "stream",
          "text": [
            "enter your secured sub1 mark:  57\n",
            "enter your secured sub2 mark:  58\n",
            "enter your secured sub3 mark:  59\n"
          ]
        },
        {
          "name": "stdout",
          "output_type": "stream",
          "text": [
            "you'r passed successfully\n"
          ]
        }
      ],
      "source": [
        "#Own code\n",
        "s1 = int(input(\"enter your secured sub1 mark: \"))\n",
        "s2 = int(input(\"enter your secured sub2 mark: \"))\n",
        "s3 = int(input(\"enter your secured sub3 mark: \"))\n",
        "\n",
        "if(s1+s2+s3>40/100*300 and s1>=33/100*100 and s2>=33/100*100 and s3>=33/100*100):\n",
        "    print(\"you'r passed successfully\")\n",
        "\n",
        "else:\n",
        "    print(\"you're failed\")"
      ]
    },
    {
      "cell_type": "code",
      "execution_count": null,
      "id": "3ff3f77d-7424-453e-b5ef-d9d56fd06338",
      "metadata": {
        "id": "3ff3f77d-7424-453e-b5ef-d9d56fd06338",
        "outputId": "a5cf5d6f-9e3d-438d-f7a4-c366ad1cd917"
      },
      "outputs": [
        {
          "name": "stdout",
          "output_type": "stream",
          "text": [
            "Enter Marks 1:  21\n",
            "Enter Marks 2:  33\n",
            "Enter Marks 3:  77\n"
          ]
        },
        {
          "name": "stdout",
          "output_type": "stream",
          "text": [
            "you are failed: 43.666666666666664\n"
          ]
        }
      ],
      "source": [
        "marks1 = int(input(\"Enter Marks 1: \"))\n",
        "marks2 = int(input(\"Enter Marks 2: \"))\n",
        "marks3 = int(input(\"Enter Marks 3: \"))\n",
        "\n",
        "#check for total percentage\n",
        "total_percentage = (100*(marks1 + marks2 + marks3))/300\n",
        "\n",
        "if(total_percentage>=40 and marks1>=33 and marks2>=33 and mark3>=33):\n",
        "    print(\"you are pass:\", total_percentage)\n",
        "\n",
        "else:\n",
        "    print(\"you are failed:\", total_percentage)"
      ]
    },
    {
      "cell_type": "markdown",
      "id": "ef071ba0-e413-4ae9-8c9b-c5a949e975c4",
      "metadata": {
        "id": "ef071ba0-e413-4ae9-8c9b-c5a949e975c4"
      },
      "source": [
        "3. A spam comment is defined as a text containing following keywords:\n",
        "“Make a lot of money”, “buy now”, “subscribe this”, “click this”. Write a program\n",
        "to detect these spams."
      ]
    },
    {
      "cell_type": "markdown",
      "id": "d8c17d6b-4888-4299-aa1f-e40ac4d916e7",
      "metadata": {
        "id": "d8c17d6b-4888-4299-aa1f-e40ac4d916e7"
      },
      "source": [
        "> `in` keyword in Python is used to check if a value is present in a sequence (list, range, string, etc.). It returns True if the value is found, and False otherwise"
      ]
    },
    {
      "cell_type": "code",
      "execution_count": null,
      "id": "33e02fff-0902-4ba3-a302-9cd0590e6d79",
      "metadata": {
        "id": "33e02fff-0902-4ba3-a302-9cd0590e6d79",
        "outputId": "9fde0e51-ed17-4af2-9815-5bd5c79b92c4"
      },
      "outputs": [
        {
          "name": "stdout",
          "output_type": "stream",
          "text": [
            "Enter your contact:  jaso bhai subscribe this\n"
          ]
        },
        {
          "name": "stdout",
          "output_type": "stream",
          "text": [
            "This comment is a spam\n"
          ]
        }
      ],
      "source": [
        "#spam filter\n",
        "p1 = \"Make a lot of money\"\n",
        "p2 = \"buy now\"\n",
        "p3 = \"subscribe this\"\n",
        "p4 = \"click this\"\n",
        "\n",
        "message = input(\"Enter your contact: \")\n",
        "\n",
        "if((p1 in message) or (p2 in message) or (p3 in message) or (p4 in message)):\n",
        "    print(\"This comment is a spam\")\n",
        "\n",
        "else:\n",
        "    print(\"This comment is not a spam\")"
      ]
    },
    {
      "cell_type": "markdown",
      "id": "331c0ca4-cfd3-4a1e-8058-29effc862a10",
      "metadata": {
        "id": "331c0ca4-cfd3-4a1e-8058-29effc862a10"
      },
      "source": [
        "4. Write a program to find whether a given username contains less than 10\n",
        "characters or not."
      ]
    },
    {
      "cell_type": "code",
      "execution_count": null,
      "id": "0501f290-96f2-4858-a32b-692c953b2df9",
      "metadata": {
        "id": "0501f290-96f2-4858-a32b-692c953b2df9",
        "outputId": "accb3fcb-da9f-4b8b-ba83-35043923d4cb"
      },
      "outputs": [
        {
          "name": "stdout",
          "output_type": "stream",
          "text": [
            "Enter Username Jasobant\n"
          ]
        },
        {
          "name": "stdout",
          "output_type": "stream",
          "text": [
            "your username contains less than 10 characters\n"
          ]
        }
      ],
      "source": [
        "username = input(\"Enter Username\")\n",
        "\n",
        "if(len(username)<10):\n",
        "    print(\"your username contains less than 10 characters\")\n",
        "else:\n",
        "    print(\"all is well\")"
      ]
    },
    {
      "cell_type": "markdown",
      "id": "9596c457-06b2-4a68-b434-9f38e54bc92a",
      "metadata": {
        "id": "9596c457-06b2-4a68-b434-9f38e54bc92a"
      },
      "source": [
        "5. Write a program which finds out whether a given name is present in a list or not."
      ]
    },
    {
      "cell_type": "code",
      "execution_count": null,
      "id": "9d4d0de8-8b92-459e-b8e2-da3c248a7a5d",
      "metadata": {
        "id": "9d4d0de8-8b92-459e-b8e2-da3c248a7a5d",
        "outputId": "c7961603-223b-4ab8-bd4e-b15e9b59a2b3"
      },
      "outputs": [
        {
          "name": "stdout",
          "output_type": "stream",
          "text": [
            "Enter your name:  raj\n"
          ]
        },
        {
          "name": "stdout",
          "output_type": "stream",
          "text": [
            "Your name is not in the list\n"
          ]
        }
      ],
      "source": [
        "l =  [\"harry\", \"jaso\",\"raju\", \"debu\"]\n",
        "\n",
        "name = input(\"Enter your name: \")\n",
        "\n",
        "if(name in l):\n",
        "    print(\"your name is in the list\")\n",
        "else:\n",
        "    print(\"Your name is not in the list\")"
      ]
    },
    {
      "cell_type": "markdown",
      "id": "1846e5d7-e37a-4c11-8efc-8f155a944dc0",
      "metadata": {
        "id": "1846e5d7-e37a-4c11-8efc-8f155a944dc0"
      },
      "source": [
        "6. Write a program to calculate the grade of a student from his marks from the\n",
        "following scheme:\n",
        "```\n",
        "90 – 100 => Ex\n",
        "80 – 90 => A\n",
        "70 – 80 => B\n",
        "60 – 70 =>C\n",
        "50 – 60 => D\n",
        "<50 => F\n",
        "```"
      ]
    },
    {
      "cell_type": "code",
      "execution_count": null,
      "id": "01724c7b-5941-4333-a148-f5762770a44c",
      "metadata": {
        "id": "01724c7b-5941-4333-a148-f5762770a44c",
        "outputId": "ac1d06c1-36bd-4d62-f660-c26afec5c6ca"
      },
      "outputs": [
        {
          "name": "stdout",
          "output_type": "stream",
          "text": [
            "Enter your marks:  90\n"
          ]
        },
        {
          "name": "stdout",
          "output_type": "stream",
          "text": [
            "your grade is: Ex\n"
          ]
        }
      ],
      "source": [
        "marks = int(input(\"Enter your marks: \"))\n",
        "\n",
        "if(marks<=100 and  marks>=90):\n",
        "    grade = \"Ex\"\n",
        "elif(marks<90 and  marks>=80):\n",
        "    grade = \"A\"\n",
        "elif(marks<80 and  marks>=70):\n",
        "    grade = \"B\"\n",
        "elif(marks<70 and  marks>=60):\n",
        "    grade = \"C\"\n",
        "elif(marks<60 and  marks>=50):\n",
        "    grade = \"D\"\n",
        "elif(marks<50):\n",
        "    grade = \"F\"\n",
        "\n",
        "print(\"your grade is:\", grade)"
      ]
    },
    {
      "cell_type": "markdown",
      "id": "a6b54f94-c699-49c8-b4fb-5d6db04f0bec",
      "metadata": {
        "id": "a6b54f94-c699-49c8-b4fb-5d6db04f0bec"
      },
      "source": [
        "7. Write a program to find out whether a given post is talking about “Harry” or not."
      ]
    },
    {
      "cell_type": "markdown",
      "id": "d549037a-189c-4643-8de1-6ee6054ac33e",
      "metadata": {
        "id": "d549037a-189c-4643-8de1-6ee6054ac33e"
      },
      "source": [
        "`.lower()` is a built-in string method in Python that converts all uppercase characters in a string to lowercase. It returns a new string with the converted characters, leaving the original string unchanged."
      ]
    },
    {
      "cell_type": "code",
      "execution_count": null,
      "id": "7bea1287-cba8-4704-a6bf-3742c010f094",
      "metadata": {
        "id": "7bea1287-cba8-4704-a6bf-3742c010f094",
        "outputId": "6f6024da-5a4c-465c-c1ee-4445124b6052"
      },
      "outputs": [
        {
          "name": "stdout",
          "output_type": "stream",
          "text": [
            "Enter the post:  HARRY\n"
          ]
        },
        {
          "name": "stdout",
          "output_type": "stream",
          "text": [
            "This post is talking about the harry\n"
          ]
        }
      ],
      "source": [
        "post = input(\"Enter the post: \")\n",
        "\n",
        "if(\"Harry\".lower() in post.lower()):\n",
        "    print(\"This post is talking about the harry\")\n",
        "\n",
        "else:\n",
        "    print(\"This post is not talking about harry\")"
      ]
    },
    {
      "cell_type": "markdown",
      "id": "d0c6e882-7f07-46d8-943e-3c3a5f9ace3e",
      "metadata": {
        "jp-MarkdownHeadingCollapsed": true,
        "id": "d0c6e882-7f07-46d8-943e-3c3a5f9ace3e"
      },
      "source": [
        "# CHAPTER-7 (LOOPS IN PYTHON)"
      ]
    },
    {
      "cell_type": "markdown",
      "id": "f41b6cf3-4025-4512-83c3-228bafaafb20",
      "metadata": {
        "id": "f41b6cf3-4025-4512-83c3-228bafaafb20"
      },
      "source": [
        "a loop is a control structure that allows you to execute a block of code repeatedly for a specified number of iterations or until a certain condition is met."
      ]
    },
    {
      "cell_type": "code",
      "execution_count": null,
      "id": "95b64ed6-9229-4565-9727-6c579504ad00",
      "metadata": {
        "id": "95b64ed6-9229-4565-9727-6c579504ad00",
        "outputId": "69a1f272-9eb5-4e6c-a3f2-3984b5ecfedb"
      },
      "outputs": [
        {
          "name": "stdout",
          "output_type": "stream",
          "text": [
            "1\n",
            "2\n",
            "3\n",
            "4\n",
            "5\n"
          ]
        }
      ],
      "source": [
        "for i in range(1, 6):\n",
        "    print(i)"
      ]
    },
    {
      "cell_type": "markdown",
      "id": "a21389b1-35c0-4850-b2e6-cab3c580c271",
      "metadata": {
        "id": "a21389b1-35c0-4850-b2e6-cab3c580c271"
      },
      "source": [
        "## Types of Loops in Python"
      ]
    },
    {
      "cell_type": "markdown",
      "id": "037921b0-9ada-4c97-8bf4-9f7cb2ddf663",
      "metadata": {
        "id": "037921b0-9ada-4c97-8bf4-9f7cb2ddf663"
      },
      "source": [
        "- While Loops\n",
        "- For Loops"
      ]
    },
    {
      "cell_type": "markdown",
      "id": "9994892b-1221-42c3-b32d-9798b35df166",
      "metadata": {
        "id": "9994892b-1221-42c3-b32d-9798b35df166"
      },
      "source": [
        "## While Loops"
      ]
    },
    {
      "cell_type": "code",
      "execution_count": null,
      "id": "e7acb2d3-193e-421b-9d29-65af85432428",
      "metadata": {
        "id": "e7acb2d3-193e-421b-9d29-65af85432428",
        "outputId": "53940f9a-61bd-4f66-9822-5b45a5fe8545"
      },
      "outputs": [
        {
          "name": "stdout",
          "output_type": "stream",
          "text": [
            "1\n",
            "2\n",
            "3\n",
            "4\n",
            "5\n"
          ]
        }
      ],
      "source": [
        "i = 1\n",
        "\n",
        "while(i<6):\n",
        "    print(i)\n",
        "    i +=1"
      ]
    },
    {
      "cell_type": "code",
      "execution_count": null,
      "id": "dc224476-d3f4-4ece-9673-7753ace0e625",
      "metadata": {
        "id": "dc224476-d3f4-4ece-9673-7753ace0e625",
        "outputId": "601c49e0-62aa-469b-92d7-41785483c2b0"
      },
      "outputs": [
        {
          "name": "stdout",
          "output_type": "stream",
          "text": [
            "Jaso\n",
            "Jaso\n",
            "Jaso\n",
            "Jaso\n",
            "Jaso\n"
          ]
        }
      ],
      "source": [
        "i = 1\n",
        "\n",
        "while(i<6):\n",
        "    print(\"Jaso\")\n",
        "    i +=1 # i = i+1"
      ]
    },
    {
      "cell_type": "code",
      "execution_count": null,
      "id": "f5767b08-2bc5-4aca-8a50-48a7278c2ea8",
      "metadata": {
        "id": "f5767b08-2bc5-4aca-8a50-48a7278c2ea8",
        "outputId": "5efca31b-07d4-4844-cadb-a12bf57f3b36"
      },
      "outputs": [
        {
          "name": "stdout",
          "output_type": "stream",
          "text": [
            "1\n",
            "Jaso\n",
            "Harry\n",
            "4\n",
            "True\n",
            "False\n"
          ]
        }
      ],
      "source": [
        "li = [1,\"Jaso\",\"Harry\", 4, True, False]\n",
        "\n",
        "i = 0\n",
        "\n",
        "while(i < len(li)):\n",
        "    print(li[i])\n",
        "    i +=1"
      ]
    },
    {
      "cell_type": "markdown",
      "id": "79331ca5-69d3-4c06-9170-1e9f4e8e6fe0",
      "metadata": {
        "id": "79331ca5-69d3-4c06-9170-1e9f4e8e6fe0"
      },
      "source": [
        "## For Loops"
      ]
    },
    {
      "cell_type": "code",
      "execution_count": null,
      "id": "4de37634-0270-4335-99a9-99363e316303",
      "metadata": {
        "id": "4de37634-0270-4335-99a9-99363e316303",
        "outputId": "ec7dc517-2a26-412e-ac06-8e7d6e08b9e3"
      },
      "outputs": [
        {
          "name": "stdout",
          "output_type": "stream",
          "text": [
            "0\n",
            "1\n",
            "2\n",
            "3\n"
          ]
        }
      ],
      "source": [
        "for i in range(4):\n",
        "    print(i)"
      ]
    },
    {
      "cell_type": "markdown",
      "id": "993b589e-919e-49e2-b7f6-441bf5f56f56",
      "metadata": {
        "id": "993b589e-919e-49e2-b7f6-441bf5f56f56"
      },
      "source": [
        "The range() function in python is used to generate a sequence of number.\n",
        "- range(start, stop, step_size)\n",
        "-  step_size is usually not used with rang()\n"
      ]
    },
    {
      "cell_type": "code",
      "execution_count": null,
      "id": "d8135fb9-2ee2-43cf-a26f-c0e27a40f15a",
      "metadata": {
        "id": "d8135fb9-2ee2-43cf-a26f-c0e27a40f15a",
        "outputId": "4510fb43-14f0-4fec-bdc4-ef937902dd29"
      },
      "outputs": [
        {
          "name": "stdout",
          "output_type": "stream",
          "text": [
            "1\n",
            "4\n",
            "6\n",
            "234\n",
            "6\n",
            "764\n"
          ]
        }
      ],
      "source": [
        "# For Loop with Lists\n",
        "l  =  [1,4,6,234,6,764]\n",
        "\n",
        "for i in l:\n",
        "    print(i)"
      ]
    },
    {
      "cell_type": "code",
      "execution_count": null,
      "id": "8b93fe63-13de-4961-8425-393e45d48b99",
      "metadata": {
        "id": "8b93fe63-13de-4961-8425-393e45d48b99",
        "outputId": "e3cf9376-1650-473a-b19a-a16f24ae1117"
      },
      "outputs": [
        {
          "name": "stdout",
          "output_type": "stream",
          "text": [
            "6\n",
            "231\n",
            "75\n",
            "6\n",
            "122\n"
          ]
        }
      ],
      "source": [
        "# For Loop with Tuples\n",
        "t = (6,231,75,6,122)\n",
        "\n",
        "for i in t:\n",
        "    print(i)"
      ]
    },
    {
      "cell_type": "code",
      "execution_count": null,
      "id": "6c11ff9e-999b-4a05-b496-2478c7f7a7ff",
      "metadata": {
        "id": "6c11ff9e-999b-4a05-b496-2478c7f7a7ff",
        "outputId": "9acf6397-801c-44b6-9fdb-51cc182b6092"
      },
      "outputs": [
        {
          "name": "stdout",
          "output_type": "stream",
          "text": [
            "j\n",
            "a\n",
            "s\n",
            "o\n",
            "b\n",
            "a\n",
            "n\n",
            "t\n"
          ]
        }
      ],
      "source": [
        "# For Loop with strings\n",
        "s = \"jasobant\"\n",
        "\n",
        "for i in s:\n",
        "    print(i)"
      ]
    },
    {
      "cell_type": "markdown",
      "id": "6e546fca-1fb2-40dd-bc01-469c7d0d0ab8",
      "metadata": {
        "id": "6e546fca-1fb2-40dd-bc01-469c7d0d0ab8"
      },
      "source": [
        "## For Loop With Else"
      ]
    },
    {
      "cell_type": "markdown",
      "id": "19e23673-6da9-4f24-9e8d-a7dd805317b3",
      "metadata": {
        "id": "19e23673-6da9-4f24-9e8d-a7dd805317b3"
      },
      "source": [
        "An optional else can be used with a for loop if the code is to be executed when the\n",
        "loops exhausts."
      ]
    },
    {
      "cell_type": "code",
      "execution_count": null,
      "id": "7ff593ac-0887-4320-ab07-71e41882b5eb",
      "metadata": {
        "id": "7ff593ac-0887-4320-ab07-71e41882b5eb",
        "outputId": "f78449ac-76c0-44cc-f0b8-040d53ebeb88"
      },
      "outputs": [
        {
          "name": "stdout",
          "output_type": "stream",
          "text": [
            "1\n",
            "7\n",
            "8\n",
            "done\n"
          ]
        }
      ],
      "source": [
        "l= [1,7,8]\n",
        "\n",
        "for item in l:\n",
        "    print(item)\n",
        "\n",
        "else:\n",
        "    print(\"done\") # this is printed when the loop exhausts!"
      ]
    },
    {
      "cell_type": "markdown",
      "id": "6a4f4d0c-5e3b-44a1-99ad-b37d65a074c4",
      "metadata": {
        "id": "6a4f4d0c-5e3b-44a1-99ad-b37d65a074c4"
      },
      "source": [
        "## Break Statement"
      ]
    },
    {
      "cell_type": "markdown",
      "id": "fc2025bd-005f-4c20-8654-6a0381f88887",
      "metadata": {
        "id": "fc2025bd-005f-4c20-8654-6a0381f88887"
      },
      "source": [
        "‘break’ is used to come out of the loop when encountered. It instructs the program to –\n",
        "exit the loop now."
      ]
    },
    {
      "cell_type": "code",
      "execution_count": null,
      "id": "b7452466-7a91-4637-8cca-2f8ce2cd5a79",
      "metadata": {
        "id": "b7452466-7a91-4637-8cca-2f8ce2cd5a79",
        "outputId": "279550d0-4d2b-46b2-e57b-d2b896479074"
      },
      "outputs": [
        {
          "name": "stdout",
          "output_type": "stream",
          "text": [
            "0\n",
            "1\n",
            "2\n",
            "3\n",
            "4\n",
            "5\n",
            "6\n",
            "7\n",
            "8\n",
            "9\n"
          ]
        }
      ],
      "source": [
        "for i in range(100):\n",
        "    if(i == 10):\n",
        "        break # Exit the loop right now\n",
        "    print(i)"
      ]
    },
    {
      "cell_type": "markdown",
      "id": "a63b4bba-15bd-46a1-8f08-761b44763ff4",
      "metadata": {
        "id": "a63b4bba-15bd-46a1-8f08-761b44763ff4"
      },
      "source": [
        "## Continue Statement"
      ]
    },
    {
      "cell_type": "markdown",
      "id": "f0045d61-1fe8-471e-9e65-bbcaa9f58076",
      "metadata": {
        "id": "f0045d61-1fe8-471e-9e65-bbcaa9f58076"
      },
      "source": [
        "‘continue’ is used to stop the current iteration of the loop and continue with the next\n",
        "one. It instructs the Program to “skip this iteration”."
      ]
    },
    {
      "cell_type": "code",
      "execution_count": null,
      "id": "9607bcac-5d87-4db5-a6d7-772d4b8cde2f",
      "metadata": {
        "id": "9607bcac-5d87-4db5-a6d7-772d4b8cde2f",
        "outputId": "ad0a27e8-f5bb-4f55-b5f0-7fd1cca725e8"
      },
      "outputs": [
        {
          "name": "stdout",
          "output_type": "stream",
          "text": [
            "0\n",
            "1\n",
            "2\n",
            "3\n",
            "4\n",
            "6\n",
            "7\n",
            "8\n",
            "9\n"
          ]
        }
      ],
      "source": [
        "for i in range(10):\n",
        "    if(i == 5):\n",
        "        continue # Skip this iteration\n",
        "    print(i)"
      ]
    },
    {
      "cell_type": "markdown",
      "id": "e9137541-53bd-4b33-b4a2-e9c725ad24f7",
      "metadata": {
        "id": "e9137541-53bd-4b33-b4a2-e9c725ad24f7"
      },
      "source": [
        "## Pass Statement"
      ]
    },
    {
      "cell_type": "markdown",
      "id": "fba42800-c99b-4d69-89e8-366f85bb621f",
      "metadata": {
        "id": "fba42800-c99b-4d69-89e8-366f85bb621f"
      },
      "source": [
        "pass is a null statement in python.\n",
        "It instructs to “do nothing”."
      ]
    },
    {
      "cell_type": "code",
      "execution_count": null,
      "id": "bfd49682-3f5f-48e5-82be-8c57a4f8920c",
      "metadata": {
        "id": "bfd49682-3f5f-48e5-82be-8c57a4f8920c",
        "outputId": "79381275-10e7-4e42-fb3e-4afa59954d3e"
      },
      "outputs": [
        {
          "name": "stdout",
          "output_type": "stream",
          "text": [
            "0\n",
            "1\n",
            "2\n",
            "3\n",
            "4\n",
            "5\n",
            "6\n",
            "7\n",
            "8\n",
            "9\n"
          ]
        }
      ],
      "source": [
        "for i in range(645):\n",
        "    pass # Without pass, the program will throw an error\n",
        "\n",
        "i = 0\n",
        "while(i<10):\n",
        "    print(i)\n",
        "    i += 1"
      ]
    },
    {
      "cell_type": "markdown",
      "id": "31eb7987-a897-454c-9075-194cfb8c9066",
      "metadata": {
        "id": "31eb7987-a897-454c-9075-194cfb8c9066"
      },
      "source": [
        "## Chapter-7 Practice"
      ]
    },
    {
      "cell_type": "markdown",
      "id": "44d185e9-4b22-4eb5-a172-7af93dc79187",
      "metadata": {
        "id": "44d185e9-4b22-4eb5-a172-7af93dc79187"
      },
      "source": [
        "1. Write a program to print multiplication table of a given number using for loop."
      ]
    },
    {
      "cell_type": "code",
      "execution_count": null,
      "id": "2df6bb2c-8ff2-400f-99f1-b61b82ae4b31",
      "metadata": {
        "id": "2df6bb2c-8ff2-400f-99f1-b61b82ae4b31",
        "outputId": "2e8aea09-e07c-4431-bac4-ccff8c8ca539"
      },
      "outputs": [
        {
          "name": "stdout",
          "output_type": "stream",
          "text": [
            "Enter a number:  25\n"
          ]
        },
        {
          "name": "stdout",
          "output_type": "stream",
          "text": [
            "25 X 1 = 25\n",
            "25 X 2 = 50\n",
            "25 X 3 = 75\n",
            "25 X 4 = 100\n",
            "25 X 5 = 125\n",
            "25 X 6 = 150\n",
            "25 X 7 = 175\n",
            "25 X 8 = 200\n",
            "25 X 9 = 225\n",
            "25 X 10 = 250\n"
          ]
        }
      ],
      "source": [
        "n = int(input(\"Enter a number: \"))\n",
        "\n",
        "for i in range(1, 11):\n",
        "    print(f\"{n} X {i} = {n * i}\")\n",
        "\n",
        "# F-strings allow you to embed expressions inside string literals, using curly braces {}. This makes string formatting simpler and more intuitive."
      ]
    },
    {
      "cell_type": "markdown",
      "id": "2f4c419d-06b3-403d-9583-e42495323cbb",
      "metadata": {
        "id": "2f4c419d-06b3-403d-9583-e42495323cbb"
      },
      "source": [
        "2. Write a program to greet all the person names stored in a list ‘l’ and which starts\n",
        "with S.\n",
        "\n",
        "l = [\"Harry\", \"Soham\", \"Sachin\", \"Rahul\"]\n"
      ]
    },
    {
      "cell_type": "code",
      "execution_count": null,
      "id": "08a6cc90-5058-42ed-afbc-efc91c4cbe43",
      "metadata": {
        "id": "08a6cc90-5058-42ed-afbc-efc91c4cbe43",
        "outputId": "fb779b9b-0f9d-4049-a21f-3c6c1f5a62f8"
      },
      "outputs": [
        {
          "name": "stdout",
          "output_type": "stream",
          "text": [
            "Hello Soham\n",
            "Hello Sachin\n"
          ]
        }
      ],
      "source": [
        "l = [\"Harry\", \"Soham\", \"Sachin\", \"Rahul\"]\n",
        "\n",
        "for name in l:\n",
        "    if(name.startswith(\"S\")):\n",
        "        print(f\"Hello {name}\")"
      ]
    },
    {
      "cell_type": "markdown",
      "id": "2286a5ec-b564-42b3-ad78-7ac9c080d736",
      "metadata": {
        "id": "2286a5ec-b564-42b3-ad78-7ac9c080d736"
      },
      "source": [
        "3. Attempt problem 1 using while loop."
      ]
    },
    {
      "cell_type": "code",
      "execution_count": null,
      "id": "9619ced8-d55a-4c54-9818-37a00ee6536c",
      "metadata": {
        "id": "9619ced8-d55a-4c54-9818-37a00ee6536c",
        "outputId": "66ae1a16-7a63-47b7-a1e0-79b8ae0c83ab"
      },
      "outputs": [
        {
          "name": "stdout",
          "output_type": "stream",
          "text": [
            "Enter a number:  50\n"
          ]
        },
        {
          "name": "stdout",
          "output_type": "stream",
          "text": [
            "50 X 1 = 50\n",
            "50 X 2 = 100\n",
            "50 X 3 = 150\n",
            "50 X 4 = 200\n",
            "50 X 5 = 250\n",
            "50 X 6 = 300\n",
            "50 X 7 = 350\n",
            "50 X 8 = 400\n",
            "50 X 9 = 450\n",
            "50 X 10 = 500\n"
          ]
        }
      ],
      "source": [
        "n = int(input(\"Enter a number: \"))\n",
        "\n",
        "i = 1\n",
        "\n",
        "while(i<11):\n",
        "    print(f\"{n} X {i} = {n * i}\")\n",
        "    i += 1"
      ]
    },
    {
      "cell_type": "markdown",
      "id": "fb97043c-6159-425a-98a9-aa3c1662d6e6",
      "metadata": {
        "id": "fb97043c-6159-425a-98a9-aa3c1662d6e6"
      },
      "source": [
        "4. Write a program to find whether a given number is prime or not."
      ]
    },
    {
      "cell_type": "code",
      "execution_count": null,
      "id": "4e12ddb2-3c31-4466-ac79-3fd5f71a63e8",
      "metadata": {
        "id": "4e12ddb2-3c31-4466-ac79-3fd5f71a63e8",
        "outputId": "888c54ca-763b-4704-b14e-d4d548d75bd7"
      },
      "outputs": [
        {
          "name": "stdout",
          "output_type": "stream",
          "text": [
            "Enter a number:  3\n"
          ]
        },
        {
          "name": "stdout",
          "output_type": "stream",
          "text": [
            "Number is prime\n"
          ]
        }
      ],
      "source": [
        "n = int(input(\"Enter a number: \"))\n",
        "\n",
        "for i in range(2, n):\n",
        "    if(n%i) == 0:\n",
        "        print(\"Number is not prime\")\n",
        "        break\n",
        "\n",
        "else:\n",
        "    print(\"Number is prime\")"
      ]
    },
    {
      "cell_type": "markdown",
      "id": "c7d59484-f5cb-4589-ae3e-6b151e4862a5",
      "metadata": {
        "id": "c7d59484-f5cb-4589-ae3e-6b151e4862a5"
      },
      "source": [
        "5. Write a program to find the sum of first n natural numbers using while loop."
      ]
    },
    {
      "cell_type": "code",
      "execution_count": null,
      "id": "c0062336-896e-4a17-b3a9-5df5276fba5f",
      "metadata": {
        "id": "c0062336-896e-4a17-b3a9-5df5276fba5f",
        "outputId": "d5ad61bc-0c85-41f7-f383-41618c69a7c4"
      },
      "outputs": [
        {
          "name": "stdout",
          "output_type": "stream",
          "text": [
            "Enter a number:  2\n"
          ]
        },
        {
          "name": "stdout",
          "output_type": "stream",
          "text": [
            "3\n"
          ]
        }
      ],
      "source": [
        "n = int(input(\"Enter a number: \"))\n",
        "\n",
        "i = 1\n",
        "sum = 0\n",
        "while(i<=n):\n",
        "    sum += i\n",
        "    i += 1\n",
        "\n",
        "print(sum)"
      ]
    },
    {
      "cell_type": "markdown",
      "id": "283de02f-622c-4108-9781-9a14ee14f1f4",
      "metadata": {
        "id": "283de02f-622c-4108-9781-9a14ee14f1f4"
      },
      "source": [
        "6. Write a program to calculate the factorial of a given number using for loop"
      ]
    },
    {
      "cell_type": "code",
      "execution_count": null,
      "id": "215da8a8-bf67-4a28-900d-d1f6c74001d9",
      "metadata": {
        "id": "215da8a8-bf67-4a28-900d-d1f6c74001d9",
        "outputId": "0fc47ab6-1c3b-45ed-a931-5337657f46cb"
      },
      "outputs": [
        {
          "name": "stdout",
          "output_type": "stream",
          "text": [
            "Enter a number:  5\n"
          ]
        },
        {
          "name": "stdout",
          "output_type": "stream",
          "text": [
            "The factorial of 5 is 120\n"
          ]
        }
      ],
      "source": [
        "n = int(input(\"Enter a number: \"))\n",
        "\n",
        "product = 1\n",
        "for i in range(1, n+1):\n",
        "    product = product * i\n",
        "\n",
        "print(f\"The factorial of {n} is {product}\")"
      ]
    },
    {
      "cell_type": "markdown",
      "id": "8fb9a89a-60fd-4b1b-8d08-503493e58406",
      "metadata": {
        "id": "8fb9a89a-60fd-4b1b-8d08-503493e58406"
      },
      "source": [
        "7. Write a program to print the following star pattern. or n=3 3"
      ]
    },
    {
      "cell_type": "code",
      "execution_count": null,
      "id": "1a841c9c-097b-4984-bcb1-2d69d4320690",
      "metadata": {
        "id": "1a841c9c-097b-4984-bcb1-2d69d4320690",
        "outputId": "a70e3eb9-3397-4859-a054-8d5994e5fa2a"
      },
      "outputs": [
        {
          "name": "stdout",
          "output_type": "stream",
          "text": [
            "Enter a number:  5\n"
          ]
        },
        {
          "name": "stdout",
          "output_type": "stream",
          "text": [
            "    *\n",
            "\n",
            "   ***\n",
            "\n",
            "  *****\n",
            "\n",
            " *******\n",
            "\n",
            "*********\n",
            "\n"
          ]
        }
      ],
      "source": [
        "'''\n",
        "For n = 3\n",
        "  *\n",
        " ***\n",
        "*****\n",
        "\n",
        "For n = 5\n",
        "    *\n",
        "   ***\n",
        "  *****\n",
        " *******\n",
        "*********\n",
        "'''\n",
        "\n",
        "n = int(input(\"Enter a number: \"))\n",
        "\n",
        "for i in range(1, n+1):\n",
        "    print(\" \"* (n-i), end=\"\")\n",
        "    print(\"*\"* (2*i-1), end=\"\")\n",
        "    print(\"\\n\")"
      ]
    },
    {
      "cell_type": "markdown",
      "id": "d2c268f2-c752-4cbf-9088-e2c08632863f",
      "metadata": {
        "id": "d2c268f2-c752-4cbf-9088-e2c08632863f"
      },
      "source": [
        "8. Write a program to print the following star pattern: for n = 3"
      ]
    },
    {
      "cell_type": "code",
      "execution_count": null,
      "id": "ffec5774-033b-4de5-94e1-28347a097778",
      "metadata": {
        "id": "ffec5774-033b-4de5-94e1-28347a097778",
        "outputId": "7e8fd093-4ad1-4cd9-dee8-323526f244fc"
      },
      "outputs": [
        {
          "name": "stdout",
          "output_type": "stream",
          "text": [
            "Enter a number:  5\n"
          ]
        },
        {
          "name": "stdout",
          "output_type": "stream",
          "text": [
            "*\n",
            "\n",
            "**\n",
            "\n",
            "***\n",
            "\n",
            "****\n",
            "\n",
            "*****\n",
            "\n"
          ]
        }
      ],
      "source": [
        "'''\n",
        "For n = 3\n",
        "*\n",
        "**\n",
        "***\n",
        "'''\n",
        "\n",
        "n = int(input(\"Enter a number: \"))\n",
        "\n",
        "for i in range(1, n+1):\n",
        "    print(\"*\"* i, end=\"\")\n",
        "    print(\"\\n\")"
      ]
    },
    {
      "cell_type": "markdown",
      "id": "632126f4-6bb0-4818-82bc-1ef3c3ea9ffe",
      "metadata": {
        "id": "632126f4-6bb0-4818-82bc-1ef3c3ea9ffe"
      },
      "source": [
        "9. Write a program to print the following star pattern.\n",
        "for n = 3\n"
      ]
    },
    {
      "cell_type": "code",
      "execution_count": null,
      "id": "0e1ba1a0-3853-487a-8f65-24f07fb3c05f",
      "metadata": {
        "id": "0e1ba1a0-3853-487a-8f65-24f07fb3c05f",
        "outputId": "0db90fa2-89a8-4c25-8bcf-b4e9dcdbf2fc"
      },
      "outputs": [
        {
          "name": "stdout",
          "output_type": "stream",
          "text": [
            "Enter a number:  5\n"
          ]
        },
        {
          "name": "stdout",
          "output_type": "stream",
          "text": [
            "*****\n",
            "*   *\n",
            "*   *\n",
            "*   *\n",
            "*****\n"
          ]
        }
      ],
      "source": [
        "'''\n",
        "For n = 4\n",
        "****\n",
        "*  *\n",
        "*  *\n",
        "****\n",
        "'''\n",
        "\n",
        "n = int(input(\"Enter a number: \"))\n",
        "\n",
        "for i in range(1, n+1):\n",
        "    if(i==1 or i==n):\n",
        "        print(\"*\"*n, end=\"\")\n",
        "    else:\n",
        "        print(\"*\", end=\"\")\n",
        "        print(\" \"* (n-2), end=\"\")\n",
        "        print(\"*\", end=\"\")\n",
        "    print(\"\")"
      ]
    },
    {
      "cell_type": "markdown",
      "id": "76446277-815b-4a39-b6f4-1ba139955576",
      "metadata": {
        "id": "76446277-815b-4a39-b6f4-1ba139955576"
      },
      "source": [
        "10. Write a program to print multiplication table of n using for loops in reversed\n",
        "order."
      ]
    },
    {
      "cell_type": "code",
      "execution_count": null,
      "id": "33bad229-717c-464d-8320-ae4a643999ca",
      "metadata": {
        "id": "33bad229-717c-464d-8320-ae4a643999ca",
        "outputId": "da8e4e69-2bd8-4a38-9526-1c19a876a0ad"
      },
      "outputs": [
        {
          "name": "stdout",
          "output_type": "stream",
          "text": [
            "Enter a number:  10\n"
          ]
        },
        {
          "name": "stdout",
          "output_type": "stream",
          "text": [
            "10 X 10 = 100\n",
            "10 X 9 = 90\n",
            "10 X 8 = 80\n",
            "10 X 7 = 70\n",
            "10 X 6 = 60\n",
            "10 X 5 = 50\n",
            "10 X 4 = 40\n",
            "10 X 3 = 30\n",
            "10 X 2 = 20\n",
            "10 X 1 = 10\n"
          ]
        }
      ],
      "source": [
        "n = int(input(\"Enter a number: \"))\n",
        "\n",
        "for i in range(1, 11):\n",
        "    print(f\"{n} X {11-i} = {n*(11-i)}\")"
      ]
    },
    {
      "cell_type": "markdown",
      "id": "2854fe43-c2fc-4475-aabc-dd081698cf81",
      "metadata": {
        "id": "2854fe43-c2fc-4475-aabc-dd081698cf81"
      },
      "source": [
        "# CHAPTER-8 (FUNCTIONS & RECURSIONS)"
      ]
    },
    {
      "cell_type": "markdown",
      "id": "d6b92547-5797-4fcd-9ac8-ea17386c198c",
      "metadata": {
        "id": "d6b92547-5797-4fcd-9ac8-ea17386c198c"
      },
      "source": [
        "function!!"
      ]
    },
    {
      "cell_type": "code",
      "execution_count": null,
      "id": "5c405383-482e-46c7-8c3e-a4a38bea6318",
      "metadata": {
        "id": "5c405383-482e-46c7-8c3e-a4a38bea6318"
      },
      "outputs": [],
      "source": []
    }
  ],
  "metadata": {
    "kernelspec": {
      "display_name": "Python 3 (ipykernel)",
      "language": "python",
      "name": "python3"
    },
    "language_info": {
      "codemirror_mode": {
        "name": "ipython",
        "version": 3
      },
      "file_extension": ".py",
      "mimetype": "text/x-python",
      "name": "python",
      "nbconvert_exporter": "python",
      "pygments_lexer": "ipython3",
      "version": "3.12.4"
    },
    "colab": {
      "provenance": [],
      "include_colab_link": true
    }
  },
  "nbformat": 4,
  "nbformat_minor": 5
}